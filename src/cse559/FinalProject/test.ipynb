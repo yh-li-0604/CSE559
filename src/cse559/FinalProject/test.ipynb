{
 "cells": [
  {
   "cell_type": "markdown",
   "id": "70897d93",
   "metadata": {},
   "source": [
    "# CSE 559 Final Project\n",
    "\n",
    "Author: Yunhe Li, Zeyuan Zong\n",
    "\n",
    "This project is face detection & blurring, with facial expression estimation\n",
    "\n",
    "This script is the test for facial expression estimation.\n",
    "\n",
    "Goal: Given a face image, which type of facial expression will be outputed. facial expression classes: [angry, disgust, fear, happy, neutral, sad, surprise]\n",
    "\n",
    "Todo: \n",
    "1. Design a model to connect input and output\n",
    "2. Train the CNN model for a few epochs to see the convergence \n",
    "3. Test on our implemented CNN model\n",
    "4. We found built-in facial expression model from face-recognition, we will use it as a comparision. "
   ]
  },
  {
   "cell_type": "code",
   "execution_count": 9,
   "id": "546969c7",
   "metadata": {},
   "outputs": [],
   "source": [
    "import torchvision.models as models\n",
    "import torch.nn as nn\n",
    "from torchvision import datasets, transforms\n",
    "from torch.utils.data import DataLoader, random_split, SubsetRandomSampler\n",
    "import torch\n",
    "from torch import optim\n",
    "import numpy as np\n",
    "from tqdm import tqdm\n",
    "from keras.models import model_from_json\n",
    "from torch.utils import tensorboard\n",
    "import os\n",
    "import matplotlib.pyplot as plt\n",
    "import seaborn as sns\n",
    "from sklearn.metrics import confusion_matrix\n",
    "from model import build_cnn_model\n",
    "from tensorflow.keras.preprocessing.image import ImageDataGenerator"
   ]
  },
  {
   "cell_type": "markdown",
   "id": "c3029388",
   "metadata": {},
   "source": [
    "## Build the model \n",
    "\n",
    "For the model selection, we decided to use resnet-50 as the feature extraction. \n",
    "\n",
    "After we embedded the features, we map all the features first to high dimensions and then back to 7 different classes with nonlinear ReLu() connected in between."
   ]
  },
  {
   "cell_type": "code",
   "execution_count": 2,
   "id": "525b99bd",
   "metadata": {},
   "outputs": [],
   "source": [
    "backbone = models.resnet50(weights='IMAGENET1K_V2')  \n",
    "num_ftrs = backbone.fc.in_features\n",
    "# Add two linear layers and relu at the end\n",
    "backbone.fc = nn.Sequential(\n",
    "    nn.Linear(num_ftrs, 512),\n",
    "    nn.ReLU(),\n",
    "    nn.Linear(512, 7)\n",
    ")\n",
    "# for name, param in backbone.named_parameters():\n",
    "#     param.requires_grad = False           \n",
    "# for p in backbone.fc.parameters():\n",
    "#     p.requires_grad = True                 "
   ]
  },
  {
   "cell_type": "markdown",
   "id": "7f488b65",
   "metadata": {},
   "source": [
    "## Load the data\n",
    "\n",
    "Load data. \n",
    "\n",
    "Need to be attention that the original image is in grayscale, but resnet-50 allows color input. We need to broadcast the grayscale images to the colored channels. "
   ]
  },
  {
   "cell_type": "code",
   "execution_count": 20,
   "id": "3fb4a618",
   "metadata": {},
   "outputs": [],
   "source": [
    "root = \"dataset\"          #  ←  the directory that contains /train  and /test\n",
    "\n",
    "# 48×48 → 224×224, 3-channel copy, normalise to ImageNet stats\n",
    "common_tfms = [\n",
    "    transforms.Grayscale(num_output_channels=3),   # 1→3 channels\n",
    "    transforms.Resize(224),\n",
    "    transforms.ToTensor(),\n",
    "    transforms.Normalize([0.485, 0.456, 0.406],\n",
    "                         [0.229, 0.224, 0.225]),\n",
    "]\n",
    "\n",
    "train_tfms = transforms.Compose([\n",
    "    transforms.RandomHorizontalFlip(),\n",
    "    transforms.RandomRotation(10),\n",
    "    *common_tfms,\n",
    "])\n",
    "val_tfms = transforms.Compose(common_tfms)\n",
    "\n",
    "train_ds = datasets.ImageFolder(f\"{root}/fer2013/train\", transform=train_tfms)\n",
    "test_ds  = datasets.ImageFolder(f\"{root}/fer2013/test\",  transform=val_tfms)\n",
    "\n",
    "\n",
    "num_samples    = len(train_ds)\n",
    "all_indices    = np.arange(len(train_ds))\n",
    "np.random.seed(42)\n",
    "chosen_indices = np.random.choice(all_indices, size=num_samples, replace=False)\n",
    "\n",
    "\n",
    "val_frac = 0.1\n",
    "val_size = int(num_samples * val_frac)\n",
    "train_size = num_samples - val_size\n",
    "\n",
    "np.random.shuffle(chosen_indices)\n",
    "train_idxs = chosen_indices[:train_size]\n",
    "val_idxs   = chosen_indices[train_size:]\n",
    "\n",
    "train_sampler = SubsetRandomSampler(train_idxs)\n",
    "val_sampler   = SubsetRandomSampler(val_idxs)\n",
    "\n",
    "# If want to use only part of the dataset, uncomment the following lines\n",
    "train_loader = DataLoader(train_ds, batch_size=64, num_workers=4, pin_memory=True,sampler=train_sampler)\n",
    "val_loader   = DataLoader(train_ds,   batch_size=64, num_workers=4, pin_memory=True,sampler=val_sampler)"
   ]
  },
  {
   "cell_type": "code",
   "execution_count": 4,
   "id": "2eb3ce70",
   "metadata": {},
   "outputs": [
    {
     "name": "stdout",
     "output_type": "stream",
     "text": [
      "Using cuda device\n"
     ]
    },
    {
     "name": "stderr",
     "output_type": "stream",
     "text": [
      "Epoch 00 [Train]: 100%|██████████| 25839/25839 [02:36<00:00, 165.36img/s, loss=1.53] \n",
      "Epoch 00 [Valid]: 100%|██████████| 2870/2870 [00:19<00:00, 148.11img/s]\n"
     ]
    },
    {
     "name": "stdout",
     "output_type": "stream",
     "text": [
      "Epoch 00: train loss 1.2440  val acc 51.92%\n"
     ]
    },
    {
     "name": "stderr",
     "output_type": "stream",
     "text": [
      "Epoch 01 [Train]: 100%|██████████| 25839/25839 [02:36<00:00, 164.95img/s, loss=0.973]\n",
      "Epoch 01 [Valid]: 100%|██████████| 2870/2870 [00:18<00:00, 151.13img/s]\n"
     ]
    },
    {
     "name": "stdout",
     "output_type": "stream",
     "text": [
      "Epoch 01: train loss 1.0361  val acc 52.51%\n"
     ]
    },
    {
     "name": "stderr",
     "output_type": "stream",
     "text": [
      "Epoch 02 [Train]: 100%|██████████| 25839/25839 [02:38<00:00, 163.27img/s, loss=1.1]  \n",
      "Epoch 02 [Valid]: 100%|██████████| 2870/2870 [00:19<00:00, 150.30img/s]\n"
     ]
    },
    {
     "name": "stdout",
     "output_type": "stream",
     "text": [
      "Epoch 02: train loss 0.9560  val acc 57.00%\n"
     ]
    },
    {
     "name": "stderr",
     "output_type": "stream",
     "text": [
      "Epoch 03 [Train]: 100%|██████████| 25839/25839 [02:40<00:00, 161.34img/s, loss=1.01] \n",
      "Epoch 03 [Valid]: 100%|██████████| 2870/2870 [00:19<00:00, 150.12img/s]\n"
     ]
    },
    {
     "name": "stdout",
     "output_type": "stream",
     "text": [
      "Epoch 03: train loss 0.9074  val acc 62.37%\n"
     ]
    },
    {
     "name": "stderr",
     "output_type": "stream",
     "text": [
      "Epoch 04 [Train]: 100%|██████████| 25839/25839 [02:37<00:00, 163.62img/s, loss=0.691]\n",
      "Epoch 04 [Valid]: 100%|██████████| 2870/2870 [00:22<00:00, 128.76img/s]\n"
     ]
    },
    {
     "name": "stdout",
     "output_type": "stream",
     "text": [
      "Epoch 04: train loss 0.8693  val acc 62.51%\n"
     ]
    },
    {
     "name": "stderr",
     "output_type": "stream",
     "text": [
      "Epoch 05 [Train]: 100%|██████████| 25839/25839 [02:38<00:00, 162.56img/s, loss=0.88] \n",
      "Epoch 05 [Valid]: 100%|██████████| 2870/2870 [00:19<00:00, 150.18img/s]\n"
     ]
    },
    {
     "name": "stdout",
     "output_type": "stream",
     "text": [
      "Epoch 05: train loss 0.8289  val acc 62.44%\n"
     ]
    },
    {
     "name": "stderr",
     "output_type": "stream",
     "text": [
      "Epoch 06 [Train]: 100%|██████████| 25839/25839 [02:38<00:00, 162.96img/s, loss=1]    \n",
      "Epoch 06 [Valid]: 100%|██████████| 2870/2870 [00:23<00:00, 123.56img/s]\n"
     ]
    },
    {
     "name": "stdout",
     "output_type": "stream",
     "text": [
      "Epoch 06: train loss 0.7992  val acc 60.00%\n"
     ]
    },
    {
     "name": "stderr",
     "output_type": "stream",
     "text": [
      "Epoch 07 [Train]: 100%|██████████| 25839/25839 [02:37<00:00, 163.75img/s, loss=0.879]\n",
      "Epoch 07 [Valid]: 100%|██████████| 2870/2870 [00:18<00:00, 151.73img/s]\n"
     ]
    },
    {
     "name": "stdout",
     "output_type": "stream",
     "text": [
      "Epoch 07: train loss 0.7669  val acc 64.88%\n"
     ]
    },
    {
     "name": "stderr",
     "output_type": "stream",
     "text": [
      "Epoch 08 [Train]: 100%|██████████| 25839/25839 [02:36<00:00, 165.11img/s, loss=0.902]\n",
      "Epoch 08 [Valid]: 100%|██████████| 2870/2870 [00:19<00:00, 150.42img/s]\n"
     ]
    },
    {
     "name": "stdout",
     "output_type": "stream",
     "text": [
      "Epoch 08: train loss 0.7322  val acc 65.92%\n"
     ]
    },
    {
     "name": "stderr",
     "output_type": "stream",
     "text": [
      "Epoch 09 [Train]: 100%|██████████| 25839/25839 [02:39<00:00, 161.81img/s, loss=0.784]\n",
      "Epoch 09 [Valid]: 100%|██████████| 2870/2870 [00:18<00:00, 152.34img/s]\n"
     ]
    },
    {
     "name": "stdout",
     "output_type": "stream",
     "text": [
      "Epoch 09: train loss 0.6948  val acc 63.48%\n"
     ]
    },
    {
     "name": "stderr",
     "output_type": "stream",
     "text": [
      "Epoch 10 [Train]: 100%|██████████| 25839/25839 [02:36<00:00, 164.73img/s, loss=0.711]\n",
      "Epoch 10 [Valid]: 100%|██████████| 2870/2870 [00:19<00:00, 148.90img/s]\n"
     ]
    },
    {
     "name": "stdout",
     "output_type": "stream",
     "text": [
      "Epoch 10: train loss 0.6623  val acc 64.46%\n"
     ]
    },
    {
     "name": "stderr",
     "output_type": "stream",
     "text": [
      "Epoch 11 [Train]: 100%|██████████| 25839/25839 [02:40<00:00, 161.43img/s, loss=0.593]\n",
      "Epoch 11 [Valid]: 100%|██████████| 2870/2870 [00:19<00:00, 150.14img/s]\n"
     ]
    },
    {
     "name": "stdout",
     "output_type": "stream",
     "text": [
      "Epoch 11: train loss 0.6248  val acc 64.43%\n"
     ]
    },
    {
     "name": "stderr",
     "output_type": "stream",
     "text": [
      "Epoch 12 [Train]: 100%|██████████| 25839/25839 [02:33<00:00, 168.75img/s, loss=0.531]\n",
      "Epoch 12 [Valid]: 100%|██████████| 2870/2870 [00:19<00:00, 147.05img/s]\n"
     ]
    },
    {
     "name": "stdout",
     "output_type": "stream",
     "text": [
      "Epoch 12: train loss 0.5876  val acc 64.95%\n"
     ]
    },
    {
     "name": "stderr",
     "output_type": "stream",
     "text": [
      "Epoch 13 [Train]: 100%|██████████| 25839/25839 [02:33<00:00, 168.14img/s, loss=0.647]\n",
      "Epoch 13 [Valid]: 100%|██████████| 2870/2870 [00:20<00:00, 138.70img/s]\n"
     ]
    },
    {
     "name": "stdout",
     "output_type": "stream",
     "text": [
      "Epoch 13: train loss 0.5457  val acc 65.92%\n"
     ]
    },
    {
     "name": "stderr",
     "output_type": "stream",
     "text": [
      "Epoch 14 [Train]: 100%|██████████| 25839/25839 [02:31<00:00, 170.42img/s, loss=0.724]\n",
      "Epoch 14 [Valid]: 100%|██████████| 2870/2870 [00:20<00:00, 140.76img/s]\n"
     ]
    },
    {
     "name": "stdout",
     "output_type": "stream",
     "text": [
      "Epoch 14: train loss 0.5055  val acc 65.16%\n"
     ]
    },
    {
     "name": "stderr",
     "output_type": "stream",
     "text": [
      "Epoch 15 [Train]: 100%|██████████| 25839/25839 [02:31<00:00, 170.15img/s, loss=0.702]\n",
      "Epoch 15 [Valid]: 100%|██████████| 2870/2870 [00:20<00:00, 137.25img/s]\n"
     ]
    },
    {
     "name": "stdout",
     "output_type": "stream",
     "text": [
      "Epoch 15: train loss 0.4645  val acc 64.36%\n"
     ]
    },
    {
     "name": "stderr",
     "output_type": "stream",
     "text": [
      "Epoch 16 [Train]: 100%|██████████| 25839/25839 [02:32<00:00, 169.63img/s, loss=0.513]\n",
      "Epoch 16 [Valid]: 100%|██████████| 2870/2870 [00:19<00:00, 149.24img/s]\n"
     ]
    },
    {
     "name": "stdout",
     "output_type": "stream",
     "text": [
      "Epoch 16: train loss 0.4304  val acc 65.05%\n"
     ]
    },
    {
     "name": "stderr",
     "output_type": "stream",
     "text": [
      "Epoch 17 [Train]: 100%|██████████| 25839/25839 [02:31<00:00, 170.09img/s, loss=0.366]\n",
      "Epoch 17 [Valid]: 100%|██████████| 2870/2870 [00:23<00:00, 123.07img/s]\n"
     ]
    },
    {
     "name": "stdout",
     "output_type": "stream",
     "text": [
      "Epoch 17: train loss 0.3830  val acc 65.02%\n"
     ]
    },
    {
     "name": "stderr",
     "output_type": "stream",
     "text": [
      "Epoch 18 [Train]: 100%|██████████| 25839/25839 [02:31<00:00, 170.53img/s, loss=0.48] \n",
      "Epoch 18 [Valid]: 100%|██████████| 2870/2870 [00:19<00:00, 150.46img/s]\n"
     ]
    },
    {
     "name": "stdout",
     "output_type": "stream",
     "text": [
      "Epoch 18: train loss 0.3531  val acc 67.98%\n"
     ]
    },
    {
     "name": "stderr",
     "output_type": "stream",
     "text": [
      "Epoch 19 [Train]: 100%|██████████| 25839/25839 [02:31<00:00, 170.34img/s, loss=0.274]\n",
      "Epoch 19 [Valid]: 100%|██████████| 2870/2870 [00:22<00:00, 128.33img/s]\n"
     ]
    },
    {
     "name": "stdout",
     "output_type": "stream",
     "text": [
      "Epoch 19: train loss 0.3138  val acc 66.24%\n"
     ]
    },
    {
     "name": "stderr",
     "output_type": "stream",
     "text": [
      "Epoch 20 [Train]: 100%|██████████| 25839/25839 [02:32<00:00, 169.96img/s, loss=0.361]\n",
      "Epoch 20 [Valid]: 100%|██████████| 2870/2870 [00:19<00:00, 148.68img/s]\n"
     ]
    },
    {
     "name": "stdout",
     "output_type": "stream",
     "text": [
      "Epoch 20: train loss 0.2826  val acc 67.07%\n"
     ]
    },
    {
     "name": "stderr",
     "output_type": "stream",
     "text": [
      "Epoch 21 [Train]: 100%|██████████| 25839/25839 [02:31<00:00, 170.11img/s, loss=0.416] \n",
      "Epoch 21 [Valid]: 100%|██████████| 2870/2870 [00:20<00:00, 142.79img/s]\n"
     ]
    },
    {
     "name": "stdout",
     "output_type": "stream",
     "text": [
      "Epoch 21: train loss 0.2625  val acc 64.18%\n"
     ]
    },
    {
     "name": "stderr",
     "output_type": "stream",
     "text": [
      "Epoch 22 [Train]: 100%|██████████| 25839/25839 [02:31<00:00, 170.16img/s, loss=0.333] \n",
      "Epoch 22 [Valid]: 100%|██████████| 2870/2870 [00:20<00:00, 138.62img/s]\n"
     ]
    },
    {
     "name": "stdout",
     "output_type": "stream",
     "text": [
      "Epoch 22: train loss 0.2296  val acc 65.51%\n"
     ]
    },
    {
     "name": "stderr",
     "output_type": "stream",
     "text": [
      "Epoch 23 [Train]: 100%|██████████| 25839/25839 [02:31<00:00, 170.61img/s, loss=0.381] \n",
      "Epoch 23 [Valid]: 100%|██████████| 2870/2870 [00:21<00:00, 133.48img/s]\n"
     ]
    },
    {
     "name": "stdout",
     "output_type": "stream",
     "text": [
      "Epoch 23: train loss 0.2169  val acc 64.77%\n"
     ]
    },
    {
     "name": "stderr",
     "output_type": "stream",
     "text": [
      "Epoch 24 [Train]: 100%|██████████| 25839/25839 [02:31<00:00, 171.03img/s, loss=0.194] \n",
      "Epoch 24 [Valid]: 100%|██████████| 2870/2870 [00:22<00:00, 126.89img/s]\n"
     ]
    },
    {
     "name": "stdout",
     "output_type": "stream",
     "text": [
      "Epoch 24: train loss 0.2014  val acc 64.49%\n"
     ]
    },
    {
     "name": "stderr",
     "output_type": "stream",
     "text": [
      "Epoch 25 [Train]: 100%|██████████| 25839/25839 [02:32<00:00, 169.92img/s, loss=0.371] \n",
      "Epoch 25 [Valid]: 100%|██████████| 2870/2870 [00:21<00:00, 135.74img/s]\n"
     ]
    },
    {
     "name": "stdout",
     "output_type": "stream",
     "text": [
      "Epoch 25: train loss 0.1841  val acc 64.84%\n"
     ]
    },
    {
     "name": "stderr",
     "output_type": "stream",
     "text": [
      "Epoch 26 [Train]: 100%|██████████| 25839/25839 [02:31<00:00, 170.32img/s, loss=0.328] \n",
      "Epoch 26 [Valid]: 100%|██████████| 2870/2870 [00:21<00:00, 134.04img/s]\n"
     ]
    },
    {
     "name": "stdout",
     "output_type": "stream",
     "text": [
      "Epoch 26: train loss 0.1747  val acc 65.85%\n"
     ]
    },
    {
     "name": "stderr",
     "output_type": "stream",
     "text": [
      "Epoch 27 [Train]: 100%|██████████| 25839/25839 [02:32<00:00, 169.87img/s, loss=0.164] \n",
      "Epoch 27 [Valid]: 100%|██████████| 2870/2870 [00:21<00:00, 133.85img/s]\n"
     ]
    },
    {
     "name": "stdout",
     "output_type": "stream",
     "text": [
      "Epoch 27: train loss 0.1567  val acc 65.12%\n"
     ]
    },
    {
     "name": "stderr",
     "output_type": "stream",
     "text": [
      "Epoch 28 [Train]: 100%|██████████| 25839/25839 [02:31<00:00, 170.73img/s, loss=0.0516]\n",
      "Epoch 28 [Valid]: 100%|██████████| 2870/2870 [00:20<00:00, 137.07img/s]\n"
     ]
    },
    {
     "name": "stdout",
     "output_type": "stream",
     "text": [
      "Epoch 28: train loss 0.1536  val acc 64.60%\n"
     ]
    },
    {
     "name": "stderr",
     "output_type": "stream",
     "text": [
      "Epoch 29 [Train]: 100%|██████████| 25839/25839 [02:32<00:00, 169.74img/s, loss=0.125] \n",
      "Epoch 29 [Valid]: 100%|██████████| 2870/2870 [00:22<00:00, 129.52img/s]\n"
     ]
    },
    {
     "name": "stdout",
     "output_type": "stream",
     "text": [
      "Epoch 29: train loss 0.1451  val acc 66.76%\n"
     ]
    },
    {
     "name": "stderr",
     "output_type": "stream",
     "text": [
      "Epoch 30 [Train]: 100%|██████████| 25839/25839 [02:30<00:00, 171.46img/s, loss=0.237] \n",
      "Epoch 30 [Valid]: 100%|██████████| 2870/2870 [00:20<00:00, 142.71img/s]\n"
     ]
    },
    {
     "name": "stdout",
     "output_type": "stream",
     "text": [
      "Epoch 30: train loss 0.1326  val acc 64.43%\n"
     ]
    },
    {
     "name": "stderr",
     "output_type": "stream",
     "text": [
      "Epoch 31 [Train]: 100%|██████████| 25839/25839 [02:31<00:00, 170.04img/s, loss=0.15]  \n",
      "Epoch 31 [Valid]: 100%|██████████| 2870/2870 [00:22<00:00, 126.27img/s]\n"
     ]
    },
    {
     "name": "stdout",
     "output_type": "stream",
     "text": [
      "Epoch 31: train loss 0.1373  val acc 65.64%\n"
     ]
    },
    {
     "name": "stderr",
     "output_type": "stream",
     "text": [
      "Epoch 32 [Train]: 100%|██████████| 25839/25839 [02:32<00:00, 169.90img/s, loss=0.0771]\n",
      "Epoch 32 [Valid]: 100%|██████████| 2870/2870 [00:19<00:00, 149.68img/s]\n"
     ]
    },
    {
     "name": "stdout",
     "output_type": "stream",
     "text": [
      "Epoch 32: train loss 0.1258  val acc 66.20%\n"
     ]
    },
    {
     "name": "stderr",
     "output_type": "stream",
     "text": [
      "Epoch 33 [Train]: 100%|██████████| 25839/25839 [02:31<00:00, 170.58img/s, loss=0.124] \n",
      "Epoch 33 [Valid]: 100%|██████████| 2870/2870 [00:22<00:00, 128.68img/s]\n"
     ]
    },
    {
     "name": "stdout",
     "output_type": "stream",
     "text": [
      "Epoch 33: train loss 0.1227  val acc 66.55%\n"
     ]
    },
    {
     "name": "stderr",
     "output_type": "stream",
     "text": [
      "Epoch 34 [Train]: 100%|██████████| 25839/25839 [02:32<00:00, 169.84img/s, loss=0.146] \n",
      "Epoch 34 [Valid]: 100%|██████████| 2870/2870 [00:21<00:00, 135.29img/s]\n"
     ]
    },
    {
     "name": "stdout",
     "output_type": "stream",
     "text": [
      "Epoch 34: train loss 0.1164  val acc 65.02%\n"
     ]
    },
    {
     "name": "stderr",
     "output_type": "stream",
     "text": [
      "Epoch 35 [Train]: 100%|██████████| 25839/25839 [02:33<00:00, 168.81img/s, loss=0.129] \n",
      "Epoch 35 [Valid]: 100%|██████████| 2870/2870 [00:22<00:00, 129.50img/s]\n"
     ]
    },
    {
     "name": "stdout",
     "output_type": "stream",
     "text": [
      "Epoch 35: train loss 0.1071  val acc 67.91%\n"
     ]
    },
    {
     "name": "stderr",
     "output_type": "stream",
     "text": [
      "Epoch 36 [Train]: 100%|██████████| 25839/25839 [02:31<00:00, 170.11img/s, loss=0.172] \n",
      "Epoch 36 [Valid]: 100%|██████████| 2870/2870 [00:20<00:00, 138.38img/s]\n"
     ]
    },
    {
     "name": "stdout",
     "output_type": "stream",
     "text": [
      "Epoch 36: train loss 0.1016  val acc 66.83%\n"
     ]
    },
    {
     "name": "stderr",
     "output_type": "stream",
     "text": [
      "Epoch 37 [Train]: 100%|██████████| 25839/25839 [02:32<00:00, 169.95img/s, loss=0.0898]\n",
      "Epoch 37 [Valid]: 100%|██████████| 2870/2870 [00:21<00:00, 136.62img/s]\n"
     ]
    },
    {
     "name": "stdout",
     "output_type": "stream",
     "text": [
      "Epoch 37: train loss 0.1022  val acc 67.32%\n"
     ]
    },
    {
     "name": "stderr",
     "output_type": "stream",
     "text": [
      "Epoch 38 [Train]: 100%|██████████| 25839/25839 [02:31<00:00, 170.75img/s, loss=0.176] \n",
      "Epoch 38 [Valid]: 100%|██████████| 2870/2870 [00:20<00:00, 138.22img/s]\n"
     ]
    },
    {
     "name": "stdout",
     "output_type": "stream",
     "text": [
      "Epoch 38: train loss 0.1056  val acc 66.52%\n"
     ]
    },
    {
     "name": "stderr",
     "output_type": "stream",
     "text": [
      "Epoch 39 [Train]: 100%|██████████| 25839/25839 [02:31<00:00, 170.68img/s, loss=0.083] \n",
      "Epoch 39 [Valid]: 100%|██████████| 2870/2870 [00:22<00:00, 127.52img/s]\n"
     ]
    },
    {
     "name": "stdout",
     "output_type": "stream",
     "text": [
      "Epoch 39: train loss 0.0975  val acc 65.82%\n"
     ]
    },
    {
     "name": "stderr",
     "output_type": "stream",
     "text": [
      "Epoch 40 [Train]: 100%|██████████| 25839/25839 [02:32<00:00, 169.46img/s, loss=0.248] \n",
      "Epoch 40 [Valid]: 100%|██████████| 2870/2870 [00:19<00:00, 149.59img/s]\n"
     ]
    },
    {
     "name": "stdout",
     "output_type": "stream",
     "text": [
      "Epoch 40: train loss 0.1013  val acc 66.93%\n"
     ]
    },
    {
     "name": "stderr",
     "output_type": "stream",
     "text": [
      "Epoch 41 [Train]: 100%|██████████| 25839/25839 [02:31<00:00, 170.72img/s, loss=0.188] \n",
      "Epoch 41 [Valid]: 100%|██████████| 2870/2870 [00:22<00:00, 129.18img/s]\n"
     ]
    },
    {
     "name": "stdout",
     "output_type": "stream",
     "text": [
      "Epoch 41: train loss 0.0925  val acc 65.54%\n"
     ]
    },
    {
     "name": "stderr",
     "output_type": "stream",
     "text": [
      "Epoch 42 [Train]: 100%|██████████| 25839/25839 [02:31<00:00, 170.82img/s, loss=0.169] \n",
      "Epoch 42 [Valid]: 100%|██████████| 2870/2870 [00:21<00:00, 134.31img/s]\n"
     ]
    },
    {
     "name": "stdout",
     "output_type": "stream",
     "text": [
      "Epoch 42: train loss 0.0867  val acc 65.61%\n"
     ]
    },
    {
     "name": "stderr",
     "output_type": "stream",
     "text": [
      "Epoch 43 [Train]: 100%|██████████| 25839/25839 [02:30<00:00, 171.31img/s, loss=0.184] \n",
      "Epoch 43 [Valid]: 100%|██████████| 2870/2870 [00:20<00:00, 139.51img/s]\n"
     ]
    },
    {
     "name": "stdout",
     "output_type": "stream",
     "text": [
      "Epoch 43: train loss 0.0895  val acc 64.04%\n"
     ]
    },
    {
     "name": "stderr",
     "output_type": "stream",
     "text": [
      "Epoch 44 [Train]: 100%|██████████| 25839/25839 [02:31<00:00, 170.08img/s, loss=0.333]  \n",
      "Epoch 44 [Valid]: 100%|██████████| 2870/2870 [00:23<00:00, 121.79img/s]\n"
     ]
    },
    {
     "name": "stdout",
     "output_type": "stream",
     "text": [
      "Epoch 44: train loss 0.0863  val acc 64.91%\n"
     ]
    },
    {
     "name": "stderr",
     "output_type": "stream",
     "text": [
      "Epoch 45 [Train]: 100%|██████████| 25839/25839 [02:32<00:00, 169.74img/s, loss=0.0909]\n",
      "Epoch 45 [Valid]: 100%|██████████| 2870/2870 [00:21<00:00, 134.75img/s]\n"
     ]
    },
    {
     "name": "stdout",
     "output_type": "stream",
     "text": [
      "Epoch 45: train loss 0.0773  val acc 65.61%\n"
     ]
    },
    {
     "name": "stderr",
     "output_type": "stream",
     "text": [
      "Epoch 46 [Train]: 100%|██████████| 25839/25839 [02:32<00:00, 169.40img/s, loss=0.0599]\n",
      "Epoch 46 [Valid]: 100%|██████████| 2870/2870 [00:20<00:00, 138.15img/s]\n"
     ]
    },
    {
     "name": "stdout",
     "output_type": "stream",
     "text": [
      "Epoch 46: train loss 0.0801  val acc 66.06%\n"
     ]
    },
    {
     "name": "stderr",
     "output_type": "stream",
     "text": [
      "Epoch 47 [Train]: 100%|██████████| 25839/25839 [02:31<00:00, 170.42img/s, loss=0.161]  \n",
      "Epoch 47 [Valid]: 100%|██████████| 2870/2870 [00:21<00:00, 135.34img/s]\n"
     ]
    },
    {
     "name": "stdout",
     "output_type": "stream",
     "text": [
      "Epoch 47: train loss 0.0756  val acc 66.62%\n"
     ]
    },
    {
     "name": "stderr",
     "output_type": "stream",
     "text": [
      "Epoch 48 [Train]: 100%|██████████| 25839/25839 [02:32<00:00, 169.52img/s, loss=0.0453]\n",
      "Epoch 48 [Valid]: 100%|██████████| 2870/2870 [00:20<00:00, 138.46img/s]\n"
     ]
    },
    {
     "name": "stdout",
     "output_type": "stream",
     "text": [
      "Epoch 48: train loss 0.0810  val acc 66.45%\n"
     ]
    },
    {
     "name": "stderr",
     "output_type": "stream",
     "text": [
      "Epoch 49 [Train]: 100%|██████████| 25839/25839 [02:32<00:00, 169.18img/s, loss=0.0607]\n",
      "Epoch 49 [Valid]: 100%|██████████| 2870/2870 [00:22<00:00, 128.94img/s]"
     ]
    },
    {
     "name": "stdout",
     "output_type": "stream",
     "text": [
      "Epoch 49: train loss 0.0753  val acc 66.10%\n"
     ]
    },
    {
     "name": "stderr",
     "output_type": "stream",
     "text": [
      "\n"
     ]
    },
    {
     "data": {
      "image/png": "[encoded data removed]",
      "text/plain": [
       "<Figure size 640x480 with 1 Axes>"
      ]
     },
     "metadata": {},
     "output_type": "display_data"
    }
   ],
   "source": [
    "model = models.resnet50(weights=\"IMAGENET1K_V2\")\n",
    "model.conv1 = nn.Conv2d(3, 64, kernel_size=7, stride=2, padding=3, bias=False)  # already 3-ch\n",
    "num_ftrs = model.fc.in_features\n",
    "model.fc  = nn.Linear(num_ftrs, 7) \n",
    "\n",
    "device   = \"cuda\" if torch.cuda.is_available() else \"cpu\"\n",
    "print(f\"Using {device} device\")\n",
    "model    = model.to(device)\n",
    "criterion= nn.CrossEntropyLoss()\n",
    "optimizer= optim.AdamW(filter(lambda p: p.requires_grad, model.parameters()), lr=1e-3)\n",
    "\n",
    "writer = tensorboard.SummaryWriter(log_dir=\"runs/fer_resnet50\") \n",
    "epochs = 50\n",
    "losses = []\n",
    "\n",
    "for epoch in range(epochs):\n",
    "    # Training...\n",
    "    model.train()\n",
    "    running_loss = 0.0\n",
    "    train_bar = tqdm(total=len(train_idxs), desc=f\"Epoch {epoch:02d} [Train]\", unit=\"img\", dynamic_ncols=True)\n",
    "\n",
    "    for x, y in train_loader:\n",
    "        x, y = x.to(device), y.to(device)\n",
    "        optimizer.zero_grad()\n",
    "        out = model(x)\n",
    "        loss = criterion(out, y)\n",
    "        loss.backward()\n",
    "        optimizer.step()\n",
    "\n",
    "        running_loss += loss.item() * x.size(0)\n",
    "        train_bar.update(x.size(0))\n",
    "        train_bar.set_postfix(loss=loss.item())\n",
    "\n",
    "    train_bar.close()\n",
    "\n",
    "    # Validation...\n",
    "    model.eval()\n",
    "    correct = total = 0\n",
    "    val_bar = tqdm(total=len(val_idxs), desc=f\"Epoch {epoch:02d} [Valid]\", unit=\"img\", dynamic_ncols=True)\n",
    "\n",
    "    with torch.no_grad():\n",
    "        for x, y in val_loader:\n",
    "            x, y = x.to(device), y.to(device)\n",
    "            pred = model(x).argmax(1)\n",
    "            correct += (pred == y).sum().item()\n",
    "            total   += y.size(0)\n",
    "            val_bar.update(x.size(0))\n",
    "\n",
    "    val_bar.close()\n",
    "\n",
    "    train_loss = running_loss / len(train_loader.dataset)\n",
    "    losses.append(train_loss)\n",
    "    val_acc    = 100 * correct / total\n",
    "\n",
    "    # <<<<<<<<<<<< Add TensorBoard logs here\n",
    "    writer.add_scalar('Loss/train', train_loss, epoch)\n",
    "    writer.add_scalar('Accuracy/val', val_acc, epoch)\n",
    "\n",
    "    print(f\"Epoch {epoch:02d}: train loss {train_loss:.4f}  val acc {val_acc:.2f}%\")\n",
    "\n",
    "# after all epochs\n",
    "writer.close()\n",
    "\n",
    "plt.plot(losses)\n",
    "plt.title(\"Training Loss\")\n",
    "plt.xlabel(\"Epochs\")\n",
    "plt.ylabel(\"Loss\")\n",
    "plt.show()\n"
   ]
  },
  {
   "cell_type": "markdown",
   "id": "083acf2c",
   "metadata": {},
   "source": [
    "# Test on our trained model\n",
    "\n",
    "Here, we proposed two tests:\n",
    "\n",
    "1. Accuracy test: we iterate through the test dataset and see how many correct expressions we have obtained \n",
    "2. Precall, F1, ... test: Simple accuracy cannot measure the likelihood of misclassification, here we will create a heatmap to show which facial expression is easy to recognize and which is hard to tell. In addition, we will report scores of precision, recall, and F1"
   ]
  },
  {
   "cell_type": "code",
   "execution_count": null,
   "id": "2e51d135",
   "metadata": {},
   "outputs": [
    {
     "data": {
      "text/plain": [
       "ResNet(\n",
       "  (conv1): Conv2d(3, 64, kernel_size=(7, 7), stride=(2, 2), padding=(3, 3), bias=False)\n",
       "  (bn1): BatchNorm2d(64, eps=1e-05, momentum=0.1, affine=True, track_running_stats=True)\n",
       "  (relu): ReLU(inplace=True)\n",
       "  (maxpool): MaxPool2d(kernel_size=3, stride=2, padding=1, dilation=1, ceil_mode=False)\n",
       "  (layer1): Sequential(\n",
       "    (0): Bottleneck(\n",
       "      (conv1): Conv2d(64, 64, kernel_size=(1, 1), stride=(1, 1), bias=False)\n",
       "      (bn1): BatchNorm2d(64, eps=1e-05, momentum=0.1, affine=True, track_running_stats=True)\n",
       "      (conv2): Conv2d(64, 64, kernel_size=(3, 3), stride=(1, 1), padding=(1, 1), bias=False)\n",
       "      (bn2): BatchNorm2d(64, eps=1e-05, momentum=0.1, affine=True, track_running_stats=True)\n",
       "      (conv3): Conv2d(64, 256, kernel_size=(1, 1), stride=(1, 1), bias=False)\n",
       "      (bn3): BatchNorm2d(256, eps=1e-05, momentum=0.1, affine=True, track_running_stats=True)\n",
       "      (relu): ReLU(inplace=True)\n",
       "      (downsample): Sequential(\n",
       "        (0): Conv2d(64, 256, kernel_size=(1, 1), stride=(1, 1), bias=False)\n",
       "        (1): BatchNorm2d(256, eps=1e-05, momentum=0.1, affine=True, track_running_stats=True)\n",
       "      )\n",
       "    )\n",
       "    (1): Bottleneck(\n",
       "      (conv1): Conv2d(256, 64, kernel_size=(1, 1), stride=(1, 1), bias=False)\n",
       "      (bn1): BatchNorm2d(64, eps=1e-05, momentum=0.1, affine=True, track_running_stats=True)\n",
       "      (conv2): Conv2d(64, 64, kernel_size=(3, 3), stride=(1, 1), padding=(1, 1), bias=False)\n",
       "      (bn2): BatchNorm2d(64, eps=1e-05, momentum=0.1, affine=True, track_running_stats=True)\n",
       "      (conv3): Conv2d(64, 256, kernel_size=(1, 1), stride=(1, 1), bias=False)\n",
       "      (bn3): BatchNorm2d(256, eps=1e-05, momentum=0.1, affine=True, track_running_stats=True)\n",
       "      (relu): ReLU(inplace=True)\n",
       "    )\n",
       "    (2): Bottleneck(\n",
       "      (conv1): Conv2d(256, 64, kernel_size=(1, 1), stride=(1, 1), bias=False)\n",
       "      (bn1): BatchNorm2d(64, eps=1e-05, momentum=0.1, affine=True, track_running_stats=True)\n",
       "      (conv2): Conv2d(64, 64, kernel_size=(3, 3), stride=(1, 1), padding=(1, 1), bias=False)\n",
       "      (bn2): BatchNorm2d(64, eps=1e-05, momentum=0.1, affine=True, track_running_stats=True)\n",
       "      (conv3): Conv2d(64, 256, kernel_size=(1, 1), stride=(1, 1), bias=False)\n",
       "      (bn3): BatchNorm2d(256, eps=1e-05, momentum=0.1, affine=True, track_running_stats=True)\n",
       "      (relu): ReLU(inplace=True)\n",
       "    )\n",
       "  )\n",
       "  (layer2): Sequential(\n",
       "    (0): Bottleneck(\n",
       "      (conv1): Conv2d(256, 128, kernel_size=(1, 1), stride=(1, 1), bias=False)\n",
       "      (bn1): BatchNorm2d(128, eps=1e-05, momentum=0.1, affine=True, track_running_stats=True)\n",
       "      (conv2): Conv2d(128, 128, kernel_size=(3, 3), stride=(2, 2), padding=(1, 1), bias=False)\n",
       "      (bn2): BatchNorm2d(128, eps=1e-05, momentum=0.1, affine=True, track_running_stats=True)\n",
       "      (conv3): Conv2d(128, 512, kernel_size=(1, 1), stride=(1, 1), bias=False)\n",
       "      (bn3): BatchNorm2d(512, eps=1e-05, momentum=0.1, affine=True, track_running_stats=True)\n",
       "      (relu): ReLU(inplace=True)\n",
       "      (downsample): Sequential(\n",
       "        (0): Conv2d(256, 512, kernel_size=(1, 1), stride=(2, 2), bias=False)\n",
       "        (1): BatchNorm2d(512, eps=1e-05, momentum=0.1, affine=True, track_running_stats=True)\n",
       "      )\n",
       "    )\n",
       "    (1): Bottleneck(\n",
       "      (conv1): Conv2d(512, 128, kernel_size=(1, 1), stride=(1, 1), bias=False)\n",
       "      (bn1): BatchNorm2d(128, eps=1e-05, momentum=0.1, affine=True, track_running_stats=True)\n",
       "      (conv2): Conv2d(128, 128, kernel_size=(3, 3), stride=(1, 1), padding=(1, 1), bias=False)\n",
       "      (bn2): BatchNorm2d(128, eps=1e-05, momentum=0.1, affine=True, track_running_stats=True)\n",
       "      (conv3): Conv2d(128, 512, kernel_size=(1, 1), stride=(1, 1), bias=False)\n",
       "      (bn3): BatchNorm2d(512, eps=1e-05, momentum=0.1, affine=True, track_running_stats=True)\n",
       "      (relu): ReLU(inplace=True)\n",
       "    )\n",
       "    (2): Bottleneck(\n",
       "      (conv1): Conv2d(512, 128, kernel_size=(1, 1), stride=(1, 1), bias=False)\n",
       "      (bn1): BatchNorm2d(128, eps=1e-05, momentum=0.1, affine=True, track_running_stats=True)\n",
       "      (conv2): Conv2d(128, 128, kernel_size=(3, 3), stride=(1, 1), padding=(1, 1), bias=False)\n",
       "      (bn2): BatchNorm2d(128, eps=1e-05, momentum=0.1, affine=True, track_running_stats=True)\n",
       "      (conv3): Conv2d(128, 512, kernel_size=(1, 1), stride=(1, 1), bias=False)\n",
       "      (bn3): BatchNorm2d(512, eps=1e-05, momentum=0.1, affine=True, track_running_stats=True)\n",
       "      (relu): ReLU(inplace=True)\n",
       "    )\n",
       "    (3): Bottleneck(\n",
       "      (conv1): Conv2d(512, 128, kernel_size=(1, 1), stride=(1, 1), bias=False)\n",
       "      (bn1): BatchNorm2d(128, eps=1e-05, momentum=0.1, affine=True, track_running_stats=True)\n",
       "      (conv2): Conv2d(128, 128, kernel_size=(3, 3), stride=(1, 1), padding=(1, 1), bias=False)\n",
       "      (bn2): BatchNorm2d(128, eps=1e-05, momentum=0.1, affine=True, track_running_stats=True)\n",
       "      (conv3): Conv2d(128, 512, kernel_size=(1, 1), stride=(1, 1), bias=False)\n",
       "      (bn3): BatchNorm2d(512, eps=1e-05, momentum=0.1, affine=True, track_running_stats=True)\n",
       "      (relu): ReLU(inplace=True)\n",
       "    )\n",
       "  )\n",
       "  (layer3): Sequential(\n",
       "    (0): Bottleneck(\n",
       "      (conv1): Conv2d(512, 256, kernel_size=(1, 1), stride=(1, 1), bias=False)\n",
       "      (bn1): BatchNorm2d(256, eps=1e-05, momentum=0.1, affine=True, track_running_stats=True)\n",
       "      (conv2): Conv2d(256, 256, kernel_size=(3, 3), stride=(2, 2), padding=(1, 1), bias=False)\n",
       "      (bn2): BatchNorm2d(256, eps=1e-05, momentum=0.1, affine=True, track_running_stats=True)\n",
       "      (conv3): Conv2d(256, 1024, kernel_size=(1, 1), stride=(1, 1), bias=False)\n",
       "      (bn3): BatchNorm2d(1024, eps=1e-05, momentum=0.1, affine=True, track_running_stats=True)\n",
       "      (relu): ReLU(inplace=True)\n",
       "      (downsample): Sequential(\n",
       "        (0): Conv2d(512, 1024, kernel_size=(1, 1), stride=(2, 2), bias=False)\n",
       "        (1): BatchNorm2d(1024, eps=1e-05, momentum=0.1, affine=True, track_running_stats=True)\n",
       "      )\n",
       "    )\n",
       "    (1): Bottleneck(\n",
       "      (conv1): Conv2d(1024, 256, kernel_size=(1, 1), stride=(1, 1), bias=False)\n",
       "      (bn1): BatchNorm2d(256, eps=1e-05, momentum=0.1, affine=True, track_running_stats=True)\n",
       "      (conv2): Conv2d(256, 256, kernel_size=(3, 3), stride=(1, 1), padding=(1, 1), bias=False)\n",
       "      (bn2): BatchNorm2d(256, eps=1e-05, momentum=0.1, affine=True, track_running_stats=True)\n",
       "      (conv3): Conv2d(256, 1024, kernel_size=(1, 1), stride=(1, 1), bias=False)\n",
       "      (bn3): BatchNorm2d(1024, eps=1e-05, momentum=0.1, affine=True, track_running_stats=True)\n",
       "      (relu): ReLU(inplace=True)\n",
       "    )\n",
       "    (2): Bottleneck(\n",
       "      (conv1): Conv2d(1024, 256, kernel_size=(1, 1), stride=(1, 1), bias=False)\n",
       "      (bn1): BatchNorm2d(256, eps=1e-05, momentum=0.1, affine=True, track_running_stats=True)\n",
       "      (conv2): Conv2d(256, 256, kernel_size=(3, 3), stride=(1, 1), padding=(1, 1), bias=False)\n",
       "      (bn2): BatchNorm2d(256, eps=1e-05, momentum=0.1, affine=True, track_running_stats=True)\n",
       "      (conv3): Conv2d(256, 1024, kernel_size=(1, 1), stride=(1, 1), bias=False)\n",
       "      (bn3): BatchNorm2d(1024, eps=1e-05, momentum=0.1, affine=True, track_running_stats=True)\n",
       "      (relu): ReLU(inplace=True)\n",
       "    )\n",
       "    (3): Bottleneck(\n",
       "      (conv1): Conv2d(1024, 256, kernel_size=(1, 1), stride=(1, 1), bias=False)\n",
       "      (bn1): BatchNorm2d(256, eps=1e-05, momentum=0.1, affine=True, track_running_stats=True)\n",
       "      (conv2): Conv2d(256, 256, kernel_size=(3, 3), stride=(1, 1), padding=(1, 1), bias=False)\n",
       "      (bn2): BatchNorm2d(256, eps=1e-05, momentum=0.1, affine=True, track_running_stats=True)\n",
       "      (conv3): Conv2d(256, 1024, kernel_size=(1, 1), stride=(1, 1), bias=False)\n",
       "      (bn3): BatchNorm2d(1024, eps=1e-05, momentum=0.1, affine=True, track_running_stats=True)\n",
       "      (relu): ReLU(inplace=True)\n",
       "    )\n",
       "    (4): Bottleneck(\n",
       "      (conv1): Conv2d(1024, 256, kernel_size=(1, 1), stride=(1, 1), bias=False)\n",
       "      (bn1): BatchNorm2d(256, eps=1e-05, momentum=0.1, affine=True, track_running_stats=True)\n",
       "      (conv2): Conv2d(256, 256, kernel_size=(3, 3), stride=(1, 1), padding=(1, 1), bias=False)\n",
       "      (bn2): BatchNorm2d(256, eps=1e-05, momentum=0.1, affine=True, track_running_stats=True)\n",
       "      (conv3): Conv2d(256, 1024, kernel_size=(1, 1), stride=(1, 1), bias=False)\n",
       "      (bn3): BatchNorm2d(1024, eps=1e-05, momentum=0.1, affine=True, track_running_stats=True)\n",
       "      (relu): ReLU(inplace=True)\n",
       "    )\n",
       "    (5): Bottleneck(\n",
       "      (conv1): Conv2d(1024, 256, kernel_size=(1, 1), stride=(1, 1), bias=False)\n",
       "      (bn1): BatchNorm2d(256, eps=1e-05, momentum=0.1, affine=True, track_running_stats=True)\n",
       "      (conv2): Conv2d(256, 256, kernel_size=(3, 3), stride=(1, 1), padding=(1, 1), bias=False)\n",
       "      (bn2): BatchNorm2d(256, eps=1e-05, momentum=0.1, affine=True, track_running_stats=True)\n",
       "      (conv3): Conv2d(256, 1024, kernel_size=(1, 1), stride=(1, 1), bias=False)\n",
       "      (bn3): BatchNorm2d(1024, eps=1e-05, momentum=0.1, affine=True, track_running_stats=True)\n",
       "      (relu): ReLU(inplace=True)\n",
       "    )\n",
       "  )\n",
       "  (layer4): Sequential(\n",
       "    (0): Bottleneck(\n",
       "      (conv1): Conv2d(1024, 512, kernel_size=(1, 1), stride=(1, 1), bias=False)\n",
       "      (bn1): BatchNorm2d(512, eps=1e-05, momentum=0.1, affine=True, track_running_stats=True)\n",
       "      (conv2): Conv2d(512, 512, kernel_size=(3, 3), stride=(2, 2), padding=(1, 1), bias=False)\n",
       "      (bn2): BatchNorm2d(512, eps=1e-05, momentum=0.1, affine=True, track_running_stats=True)\n",
       "      (conv3): Conv2d(512, 2048, kernel_size=(1, 1), stride=(1, 1), bias=False)\n",
       "      (bn3): BatchNorm2d(2048, eps=1e-05, momentum=0.1, affine=True, track_running_stats=True)\n",
       "      (relu): ReLU(inplace=True)\n",
       "      (downsample): Sequential(\n",
       "        (0): Conv2d(1024, 2048, kernel_size=(1, 1), stride=(2, 2), bias=False)\n",
       "        (1): BatchNorm2d(2048, eps=1e-05, momentum=0.1, affine=True, track_running_stats=True)\n",
       "      )\n",
       "    )\n",
       "    (1): Bottleneck(\n",
       "      (conv1): Conv2d(2048, 512, kernel_size=(1, 1), stride=(1, 1), bias=False)\n",
       "      (bn1): BatchNorm2d(512, eps=1e-05, momentum=0.1, affine=True, track_running_stats=True)\n",
       "      (conv2): Conv2d(512, 512, kernel_size=(3, 3), stride=(1, 1), padding=(1, 1), bias=False)\n",
       "      (bn2): BatchNorm2d(512, eps=1e-05, momentum=0.1, affine=True, track_running_stats=True)\n",
       "      (conv3): Conv2d(512, 2048, kernel_size=(1, 1), stride=(1, 1), bias=False)\n",
       "      (bn3): BatchNorm2d(2048, eps=1e-05, momentum=0.1, affine=True, track_running_stats=True)\n",
       "      (relu): ReLU(inplace=True)\n",
       "    )\n",
       "    (2): Bottleneck(\n",
       "      (conv1): Conv2d(2048, 512, kernel_size=(1, 1), stride=(1, 1), bias=False)\n",
       "      (bn1): BatchNorm2d(512, eps=1e-05, momentum=0.1, affine=True, track_running_stats=True)\n",
       "      (conv2): Conv2d(512, 512, kernel_size=(3, 3), stride=(1, 1), padding=(1, 1), bias=False)\n",
       "      (bn2): BatchNorm2d(512, eps=1e-05, momentum=0.1, affine=True, track_running_stats=True)\n",
       "      (conv3): Conv2d(512, 2048, kernel_size=(1, 1), stride=(1, 1), bias=False)\n",
       "      (bn3): BatchNorm2d(2048, eps=1e-05, momentum=0.1, affine=True, track_running_stats=True)\n",
       "      (relu): ReLU(inplace=True)\n",
       "    )\n",
       "  )\n",
       "  (avgpool): AdaptiveAvgPool2d(output_size=(1, 1))\n",
       "  (fc): Linear(in_features=2048, out_features=7, bias=True)\n",
       ")"
      ]
     },
     "execution_count": 18,
     "metadata": {},
     "output_type": "execute_result"
    }
   ],
   "source": [
    "# save the model, uncomment it if you do the training \n",
    "# model_path = f\"models/fer_resnet50_epoch{epochs}.pth\"\n",
    "# torch.save(model.state_dict(), model_path)\n",
    "\n",
    "# load the model\n",
    "epochs=15\n",
    "model_path = f\"models/fer_resnet50_epoch{epochs}.pth\"\n",
    "model = models.resnet50(weights=\"IMAGENET1K_V2\")\n",
    "model.conv1 = nn.Conv2d(3, 64, kernel_size=7, stride=2, padding=3, bias=False)  # already 3-ch\n",
    "num_ftrs = model.fc.in_features\n",
    "model.fc  = nn.Linear(num_ftrs, 7) \n",
    "model.load_state_dict(torch.load(model_path))\n",
    "model.eval()"
   ]
  },
  {
   "cell_type": "code",
   "execution_count": 23,
   "id": "f59fabfc",
   "metadata": {},
   "outputs": [
    {
     "name": "stdout",
     "output_type": "stream",
     "text": [
      "Using cuda device\n",
      "[PyTorch] Test accuracy: 0.6360 (4565/7178)\n"
     ]
    }
   ],
   "source": [
    "device   = \"cuda\" if torch.cuda.is_available() else \"cpu\"\n",
    "print(f\"Using {device} device\")\n",
    "\n",
    "model.to(device)\n",
    "\n",
    "correct = total = 0\n",
    "criterion = nn.CrossEntropyLoss()\n",
    "\n",
    "test_loader  = DataLoader(test_ds,  batch_size=64, num_workers=4, pin_memory=True)\n",
    "\n",
    "with torch.no_grad():\n",
    "    for imgs, labels in test_loader:\n",
    "        imgs, labels = imgs.to(device), labels.to(device)\n",
    "        outputs = model(imgs)\n",
    "        loss = criterion(outputs, labels)\n",
    "        preds = outputs.argmax(dim=1)\n",
    "        correct += (preds == labels).sum().item()\n",
    "        total   += labels.size(0)\n",
    "\n",
    "print(f\"[PyTorch] Test accuracy: {correct/total:.4f} ({correct}/{total})\")"
   ]
  },
  {
   "cell_type": "code",
   "execution_count": 12,
   "id": "b3b15a6e",
   "metadata": {},
   "outputs": [],
   "source": [
    "def compute_metrics(y_true, y_pred, num_classes=7):\n",
    "    \"\"\"\n",
    "    Compute per-class and macro-averaged precision, recall, f1, and accuracy.\n",
    "    Args:\n",
    "        y_true: ground-truth labels (1D numpy array)\n",
    "        y_pred: predicted labels (1D numpy array)\n",
    "        num_classes: number of classes\n",
    "    Returns:\n",
    "        Dictionary containing all metrics\n",
    "    \"\"\"\n",
    "\n",
    "    # 1. confusion matrix\n",
    "    cm = confusion_matrix(y_true, y_pred, labels=list(range(num_classes)))\n",
    "\n",
    "    # 2. Initialize\n",
    "    precision = np.zeros(num_classes)\n",
    "    recall = np.zeros(num_classes)\n",
    "    f1 = np.zeros(num_classes)\n",
    "\n",
    "    # 3. Compute per-class metrics\n",
    "    for i in range(num_classes):\n",
    "        tp = cm[i, i]\n",
    "        fp = cm[:, i].sum() - tp\n",
    "        fn = cm[i, :].sum() - tp\n",
    "\n",
    "        precision[i] = tp / (tp + fp + 1e-8)   # avoid division by 0\n",
    "        recall[i] = tp / (tp + fn + 1e-8)\n",
    "        f1[i] = 2 * precision[i] * recall[i] / (precision[i] + recall[i] + 1e-8)\n",
    "\n",
    "    # 4. Macro-averaged\n",
    "    precision_macro = np.mean(precision)\n",
    "    recall_macro   = np.mean(recall)\n",
    "    f1_macro       = np.mean(f1)\n",
    "\n",
    "    # 5. Overall accuracy\n",
    "    accuracy = np.trace(cm) / np.sum(cm)\n",
    "\n",
    "    return {\n",
    "        \"precision_per_class\": precision,\n",
    "        \"recall_per_class\": recall,\n",
    "        \"f1_per_class\": f1,\n",
    "        \"precision_macro\": precision_macro,\n",
    "        \"recall_macro\": recall_macro,\n",
    "        \"f1_macro\": f1_macro,\n",
    "        \"accuracy\": accuracy\n",
    "    }"
   ]
  },
  {
   "cell_type": "code",
   "execution_count": 24,
   "id": "c8285b9c",
   "metadata": {},
   "outputs": [
    {
     "data": {
      "image/png": "[encoded data removed]",
      "text/plain": [
       "<Figure size 700x600 with 2 Axes>"
      ]
     },
     "metadata": {},
     "output_type": "display_data"
    }
   ],
   "source": [
    "# Assuming you already have a trained model and test_loader\n",
    "device = \"cuda\" if torch.cuda.is_available() else \"cpu\"\n",
    "\n",
    "# 1. Predict all test images\n",
    "all_preds = []\n",
    "all_labels = []\n",
    "\n",
    "model.eval()\n",
    "with torch.no_grad():\n",
    "    for x, y in test_loader:\n",
    "        x, y = x.to(device), y.to(device)\n",
    "        outputs = model(x)\n",
    "        preds = outputs.argmax(dim=1)\n",
    "\n",
    "        all_preds.append(preds.cpu().numpy())\n",
    "        all_labels.append(y.cpu().numpy())\n",
    "\n",
    "# 2. Flatten lists\n",
    "all_preds = np.concatenate(all_preds)\n",
    "all_labels = np.concatenate(all_labels)\n",
    "\n",
    "# 3. Create confusion matrix\n",
    "cm = confusion_matrix(all_labels, all_preds)\n",
    "cm_normalized = cm.astype('float') / cm.sum(axis=1)[:, np.newaxis]\n",
    "\n",
    "# 4. Define class names (match the dataset folder order!)\n",
    "class_names = ['Angry', 'Disgust', 'Fear', 'Happy', 'Neutral', 'Sad', 'Surprise']\n",
    "\n",
    "# 5. Plot the heatmap\n",
    "plt.figure(figsize=(7,6))\n",
    "sns.heatmap(cm_normalized, annot=True, fmt='.2f', cmap='YlOrBr', \n",
    "            xticklabels=class_names, yticklabels=class_names, cbar=True)\n",
    "\n",
    "plt.xlabel('Predicted Label')\n",
    "plt.ylabel('Actual Label')\n",
    "plt.title(f'FER, Test Accuracy: {100*np.trace(cm)/np.sum(cm):.2f}%')\n",
    "plt.tight_layout()\n",
    "plt.show()\n"
   ]
  },
  {
   "cell_type": "code",
   "execution_count": 25,
   "id": "381b1984",
   "metadata": {},
   "outputs": [
    {
     "name": "stdout",
     "output_type": "stream",
     "text": [
      "Overall Accuracy: 63.60%\n",
      "Macro Precision: 60.97%\n",
      "Macro Recall:    60.51%\n",
      "Macro F1:        60.55%\n",
      "Angry     : Precision=56.44%, Recall=53.97%, F1=55.18%\n",
      "Disgust   : Precision=55.79%, Recall=47.75%, F1=51.46%\n",
      "Fear      : Precision=44.89%, Recall=45.02%, F1=44.95%\n",
      "Happy     : Precision=86.49%, Recall=82.64%, F1=84.52%\n",
      "Neutral   : Precision=56.32%, Recall=66.50%, F1=60.99%\n",
      "Sad       : Precision=52.83%, Recall=44.91%, F1=48.55%\n",
      "Surprise  : Precision=74.06%, Recall=82.79%, F1=78.18%\n"
     ]
    }
   ],
   "source": [
    "# after collecting all_preds and all_labels\n",
    "\n",
    "metrics = compute_metrics(all_labels, all_preds, num_classes=7)\n",
    "\n",
    "print(f\"Overall Accuracy: {metrics['accuracy']*100:.2f}%\")\n",
    "print(f\"Macro Precision: {metrics['precision_macro']*100:.2f}%\")\n",
    "print(f\"Macro Recall:    {metrics['recall_macro']*100:.2f}%\")\n",
    "print(f\"Macro F1:        {metrics['f1_macro']*100:.2f}%\")\n",
    "\n",
    "# Per class print (optional)\n",
    "class_names = ['Angry', 'Disgust', 'Fear', 'Happy', 'Neutral', 'Sad', 'Surprise']\n",
    "\n",
    "for i, classname in enumerate(class_names):\n",
    "    print(f\"{classname:10s}: Precision={metrics['precision_per_class'][i]*100:.2f}%, \"\n",
    "          f\"Recall={metrics['recall_per_class'][i]*100:.2f}%, \"\n",
    "          f\"F1={metrics['f1_per_class'][i]*100:.2f}%\")\n"
   ]
  },
  {
   "cell_type": "markdown",
   "id": "054d143a",
   "metadata": {},
   "source": [
    "# Test on the default model\n",
    "\n",
    "The default model is based on the tutorial from FER Kaggle competition\n",
    "\n",
    "The tensorflow structure is too old so that I rewritten it in the tensorflow 2.x and keras 3.x version. The model structure can be found at model.py file\n",
    "\n",
    "The test pipeline is the same as the previous one"
   ]
  },
  {
   "cell_type": "code",
   "execution_count": 6,
   "id": "c349d1c4",
   "metadata": {},
   "outputs": [
    {
     "name": "stderr",
     "output_type": "stream",
     "text": [
      "c:\\Users\\yh200\\PycharmProjects\\CSE559\\.venv\\Lib\\site-packages\\keras\\src\\layers\\convolutional\\base_conv.py:107: UserWarning: Do not pass an `input_shape`/`input_dim` argument to a layer. When using Sequential models, prefer using an `Input(shape)` object as the first layer in the model instead.\n",
      "  super().__init__(activity_regularizer=activity_regularizer, **kwargs)\n"
     ]
    }
   ],
   "source": [
    "face_exp_model = build_cnn_model()\n",
    "face_exp_model.load_weights('models/facial_expression_model_weights.h5')"
   ]
  },
  {
   "cell_type": "code",
   "execution_count": 10,
   "id": "22c11964",
   "metadata": {},
   "outputs": [
    {
     "name": "stdout",
     "output_type": "stream",
     "text": [
      "Found 7178 images belonging to 7 classes.\n"
     ]
    },
    {
     "name": "stderr",
     "output_type": "stream",
     "text": [
      "c:\\Users\\yh200\\PycharmProjects\\CSE559\\.venv\\Lib\\site-packages\\keras\\src\\trainers\\data_adapters\\py_dataset_adapter.py:121: UserWarning: Your `PyDataset` class should call `super().__init__(**kwargs)` in its constructor. `**kwargs` can include `workers`, `use_multiprocessing`, `max_queue_size`. Do not pass these arguments to `fit()`, as they will be ignored.\n",
      "  self._warn_if_super_not_called()\n"
     ]
    },
    {
     "name": "stdout",
     "output_type": "stream",
     "text": [
      "\u001b[1m113/113\u001b[0m \u001b[32m━━━━━━━━━━━━━━━━━━━━\u001b[0m\u001b[37m\u001b[0m \u001b[1m56s\u001b[0m 495ms/step - accuracy: 0.4589 - loss: 3.4889\n",
      "[Keras]  Test loss: 6.7201,  Test accuracy: 0.3495\n"
     ]
    }
   ],
   "source": [
    "face_exp_model.compile(optimizer=\"adam\",\n",
    "                    loss=\"categorical_crossentropy\",\n",
    "                    metrics=[\"accuracy\"])\n",
    "\n",
    "test_datagen = ImageDataGenerator(rescale=1.0/255)\n",
    "\n",
    "test_generator = test_datagen.flow_from_directory(\n",
    "    directory=os.path.join(\"dataset\", \"fer2013\", \"test\"),\n",
    "    target_size=(48, 48),\n",
    "    color_mode=\"grayscale\",\n",
    "    batch_size=64,\n",
    "    class_mode=\"categorical\",\n",
    "    shuffle=False\n",
    ")\n",
    "\n",
    "# 1.3 Evaluate\n",
    "loss, acc = face_exp_model.evaluate(test_generator, verbose=1)\n",
    "print(f\"[Keras]  Test loss: {loss:.4f},  Test accuracy: {acc:.4f}\")"
   ]
  },
  {
   "cell_type": "code",
   "execution_count": 11,
   "id": "25c667d4",
   "metadata": {},
   "outputs": [
    {
     "name": "stdout",
     "output_type": "stream",
     "text": [
      "\u001b[1m113/113\u001b[0m \u001b[32m━━━━━━━━━━━━━━━━━━━━\u001b[0m\u001b[37m\u001b[0m \u001b[1m3s\u001b[0m 22ms/step\n"
     ]
    },
    {
     "data": {
      "image/png": "[encoded data removed]",
      "text/plain": [
       "<Figure size 700x600 with 2 Axes>"
      ]
     },
     "metadata": {},
     "output_type": "display_data"
    }
   ],
   "source": [
    "y_pred_probs = face_exp_model.predict(test_generator, verbose=1)\n",
    "y_pred_classes = np.argmax(y_pred_probs, axis=1)\n",
    "y_true_classes = test_generator.classes \n",
    "\n",
    "cm = confusion_matrix(y_true_classes, y_pred_classes)\n",
    "cm_normalized = cm.astype('float') / cm.sum(axis=1)[:, np.newaxis]\n",
    "\n",
    "class_names = ['Angry', 'Disgust', 'Fear', 'Happy', 'Neutral', 'Sad', 'Surprise']\n",
    "\n",
    "plt.figure(figsize=(7,6))\n",
    "sns.heatmap(cm_normalized, annot=True, fmt='.2f', cmap='YlOrBr',\n",
    "            xticklabels=class_names, yticklabels=class_names, cbar=True)\n",
    "\n",
    "test_accuracy = 100 * np.trace(cm) / np.sum(cm)\n",
    "\n",
    "plt.xlabel('Predicted Label')\n",
    "plt.ylabel('Actual Label')\n",
    "plt.title(f'Keras FER Model, Test Acc: {test_accuracy:.2f}%')\n",
    "plt.tight_layout()\n",
    "plt.show()"
   ]
  },
  {
   "cell_type": "code",
   "execution_count": 13,
   "id": "a79e32eb",
   "metadata": {},
   "outputs": [
    {
     "name": "stdout",
     "output_type": "stream",
     "text": [
      "Overall Accuracy: 34.95%\n",
      "Macro Precision: 35.60%\n",
      "Macro Recall:    32.76%\n",
      "Macro F1:        33.89%\n",
      "Angry     : Precision=49.65%, Recall=43.95%, F1=46.62%\n",
      "Disgust   : Precision=61.73%, Recall=45.05%, F1=52.08%\n",
      "Fear      : Precision=39.94%, Recall=41.11%, F1=40.52%\n",
      "Happy     : Precision=76.64%, Recall=77.51%, F1=77.07%\n",
      "Neutral   : Precision=15.00%, Recall=13.63%, F1=14.28%\n",
      "Sad       : Precision=2.68%, Recall=1.68%, F1=2.07%\n",
      "Surprise  : Precision=3.54%, Recall=6.38%, F1=4.56%\n"
     ]
    }
   ],
   "source": [
    "metrics = compute_metrics(y_true_classes, y_pred_classes, num_classes=7)\n",
    "\n",
    "# Print overall performance\n",
    "print(f\"Overall Accuracy: {metrics['accuracy']*100:.2f}%\")\n",
    "print(f\"Macro Precision: {metrics['precision_macro']*100:.2f}%\")\n",
    "print(f\"Macro Recall:    {metrics['recall_macro']*100:.2f}%\")\n",
    "print(f\"Macro F1:        {metrics['f1_macro']*100:.2f}%\")\n",
    "\n",
    "# Print per-class performance\n",
    "class_names = ['Angry', 'Disgust', 'Fear', 'Happy', 'Neutral', 'Sad', 'Surprise']\n",
    "\n",
    "for i, name in enumerate(class_names):\n",
    "    print(f\"{name:10s}: Precision={metrics['precision_per_class'][i]*100:.2f}%, \"\n",
    "          f\"Recall={metrics['recall_per_class'][i]*100:.2f}%, \"\n",
    "          f\"F1={metrics['f1_per_class'][i]*100:.2f}%\")"
   ]
  }
 ],
 "metadata": {
  "kernelspec": {
   "display_name": ".venv",
   "language": "python",
   "name": "python3"
  },
  "language_info": {
   "codemirror_mode": {
    "name": "ipython",
    "version": 3
   },
   "file_extension": ".py",
   "mimetype": "text/x-python",
   "name": "python",
   "nbconvert_exporter": "python",
   "pygments_lexer": "ipython3",
   "version": "3.12.5"
  }
 },
 "nbformat": 4,
 "nbformat_minor": 5
}
