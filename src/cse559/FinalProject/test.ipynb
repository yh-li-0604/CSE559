{
 "cells": [
  {
   "cell_type": "markdown",
   "id": "70897d93",
   "metadata": {},
   "source": [
    "# CSE 559 Final Project\n",
    "\n",
    "Author: Yunhe Li, Zeyuan Zong\n",
    "\n",
    "This project is face detection & blurring, with facial expression estimation\n",
    "\n",
    "This script is the test for facial expression estimation.\n",
    "\n",
    "Goal: Given a face image, which type of facial expression will be outputed. facial expression classes: [angry, disgust, fear, happy, neutral, sad, surprise]\n",
    "\n",
    "Todo: \n",
    "1. Design a model to connect input and output\n",
    "2. Train the CNN model for a few epochs to see the convergence \n",
    "3. Test on our implemented CNN model\n",
    "4. We found built-in facial expression model from face-recognition, we will use it as a comparision. "
   ]
  },
  {
   "cell_type": "code",
   "execution_count": 2,
   "id": "546969c7",
   "metadata": {},
   "outputs": [],
   "source": [
    "import torchvision.models as models\n",
    "import torch.nn as nn\n",
    "from torchvision import datasets, transforms\n",
    "from torch.utils.data import DataLoader, random_split, SubsetRandomSampler\n",
    "import torch\n",
    "from torch import optim\n",
    "import numpy as np\n",
    "from tqdm import tqdm\n",
    "from keras.models import model_from_json\n",
    "from tensorflow.keras.preprocessing.image import ImageDataGenerator\n",
    "from torch.utils import tensorboard\n",
    "import tensorflow as tf\n",
    "import os\n",
    "import matplotlib.pyplot as plt\n",
    "import seaborn as sns\n",
    "from sklearn.metrics import confusion_matrix"
   ]
  },
  {
   "cell_type": "markdown",
   "id": "c3029388",
   "metadata": {},
   "source": [
    "## Build the model \n",
    "\n",
    "For the model selection, we decided to use resnet-50 as the feature extraction. \n",
    "\n",
    "After we embedded the features, we map all the features first to high dimensions and then back to 7 different classes with nonlinear ReLu() connected in between."
   ]
  },
  {
   "cell_type": "code",
   "execution_count": 3,
   "id": "525b99bd",
   "metadata": {},
   "outputs": [],
   "source": [
    "backbone = models.resnet50(weights='IMAGENET1K_V2')  \n",
    "num_ftrs = backbone.fc.in_features\n",
    "# Add two linear layers and relu at the end\n",
    "backbone.fc = nn.Sequential(\n",
    "    nn.Linear(num_ftrs, 512),\n",
    "    nn.ReLU(),\n",
    "    nn.Linear(512, 7)\n",
    ")\n",
    "# for name, param in backbone.named_parameters():\n",
    "#     param.requires_grad = False           \n",
    "# for p in backbone.fc.parameters():\n",
    "#     p.requires_grad = True                 "
   ]
  },
  {
   "cell_type": "markdown",
   "id": "7f488b65",
   "metadata": {},
   "source": [
    "## Load the data\n",
    "\n",
    "Load data. \n",
    "\n",
    "Need to be attention that the original image is in grayscale, but resnet-50 allows color input. We need to broadcast the grayscale images to the colored channels. "
   ]
  },
  {
   "cell_type": "code",
   "execution_count": 4,
   "id": "3fb4a618",
   "metadata": {},
   "outputs": [],
   "source": [
    "root = \"dataset\"          #  ←  the directory that contains /train  and /test\n",
    "\n",
    "# 48×48 → 224×224, 3-channel copy, normalise to ImageNet stats\n",
    "common_tfms = [\n",
    "    transforms.Grayscale(num_output_channels=3),   # 1→3 channels\n",
    "    transforms.Resize(224),\n",
    "    transforms.ToTensor(),\n",
    "    transforms.Normalize([0.485, 0.456, 0.406],\n",
    "                         [0.229, 0.224, 0.225]),\n",
    "]\n",
    "\n",
    "train_tfms = transforms.Compose([\n",
    "    transforms.RandomHorizontalFlip(),\n",
    "    transforms.RandomRotation(10),\n",
    "    *common_tfms,\n",
    "])\n",
    "val_tfms = transforms.Compose(common_tfms)\n",
    "\n",
    "train_ds = datasets.ImageFolder(f\"{root}/fer2013/train\", transform=train_tfms)\n",
    "test_ds  = datasets.ImageFolder(f\"{root}/fer2013/test\",  transform=val_tfms)\n",
    "\n",
    "\n",
    "num_samples    = 15000\n",
    "all_indices    = np.arange(len(train_ds))\n",
    "np.random.seed(42)\n",
    "chosen_indices = np.random.choice(all_indices, size=num_samples, replace=False)\n",
    "\n",
    "\n",
    "val_frac = 0.1\n",
    "val_size = int(num_samples * val_frac)\n",
    "train_size = num_samples - val_size\n",
    "\n",
    "np.random.shuffle(chosen_indices)\n",
    "train_idxs = chosen_indices[:train_size]\n",
    "val_idxs   = chosen_indices[train_size:]\n",
    "\n",
    "train_sampler = SubsetRandomSampler(train_idxs)\n",
    "val_sampler   = SubsetRandomSampler(val_idxs)\n",
    "\n",
    "train_loader = DataLoader(train_ds, batch_size=64, num_workers=4, pin_memory=True,sampler=train_sampler)\n",
    "val_loader   = DataLoader(train_ds,   batch_size=64, num_workers=4, pin_memory=True,sampler=val_sampler)"
   ]
  },
  {
   "cell_type": "code",
   "execution_count": 5,
   "id": "2eb3ce70",
   "metadata": {},
   "outputs": [
    {
     "name": "stdout",
     "output_type": "stream",
     "text": [
      "Using cuda device\n"
     ]
    },
    {
     "name": "stderr",
     "output_type": "stream",
     "text": [
      "Epoch 00 [Train]: 100%|██████████| 13500/13500 [01:28<00:00, 153.24img/s, loss=1.2] \n",
      "Epoch 00 [Valid]: 100%|██████████| 1500/1500 [00:16<00:00, 91.43img/s] \n"
     ]
    },
    {
     "name": "stdout",
     "output_type": "stream",
     "text": [
      "Epoch 00: train loss 0.6961  val acc 47.07%\n"
     ]
    },
    {
     "name": "stderr",
     "output_type": "stream",
     "text": [
      "Epoch 01 [Train]: 100%|██████████| 13500/13500 [01:27<00:00, 154.08img/s, loss=1.2]  \n",
      "Epoch 01 [Valid]: 100%|██████████| 1500/1500 [00:17<00:00, 87.55img/s] \n"
     ]
    },
    {
     "name": "stdout",
     "output_type": "stream",
     "text": [
      "Epoch 01: train loss 0.5758  val acc 50.67%\n"
     ]
    },
    {
     "name": "stderr",
     "output_type": "stream",
     "text": [
      "Epoch 02 [Train]: 100%|██████████| 13500/13500 [01:28<00:00, 153.18img/s, loss=1.05] \n",
      "Epoch 02 [Valid]: 100%|██████████| 1500/1500 [00:16<00:00, 89.99img/s] \n"
     ]
    },
    {
     "name": "stdout",
     "output_type": "stream",
     "text": [
      "Epoch 02: train loss 0.5371  val acc 55.07%\n"
     ]
    },
    {
     "name": "stderr",
     "output_type": "stream",
     "text": [
      "Epoch 03 [Train]: 100%|██████████| 13500/13500 [01:28<00:00, 152.90img/s, loss=1.09] \n",
      "Epoch 03 [Valid]: 100%|██████████| 1500/1500 [00:16<00:00, 89.78img/s] \n"
     ]
    },
    {
     "name": "stdout",
     "output_type": "stream",
     "text": [
      "Epoch 03: train loss 0.5052  val acc 56.20%\n"
     ]
    },
    {
     "name": "stderr",
     "output_type": "stream",
     "text": [
      "Epoch 04 [Train]: 100%|██████████| 13500/13500 [01:29<00:00, 150.51img/s, loss=0.803]\n",
      "Epoch 04 [Valid]: 100%|██████████| 1500/1500 [00:17<00:00, 84.14img/s] \n"
     ]
    },
    {
     "name": "stdout",
     "output_type": "stream",
     "text": [
      "Epoch 04: train loss 0.4798  val acc 56.80%\n"
     ]
    },
    {
     "name": "stderr",
     "output_type": "stream",
     "text": [
      "Epoch 05 [Train]: 100%|██████████| 13500/13500 [01:29<00:00, 151.22img/s, loss=1.2]  \n",
      "Epoch 05 [Valid]: 100%|██████████| 1500/1500 [00:17<00:00, 87.90img/s] \n"
     ]
    },
    {
     "name": "stdout",
     "output_type": "stream",
     "text": [
      "Epoch 05: train loss 0.4569  val acc 54.93%\n"
     ]
    },
    {
     "name": "stderr",
     "output_type": "stream",
     "text": [
      "Epoch 06 [Train]: 100%|██████████| 13500/13500 [01:28<00:00, 153.35img/s, loss=0.995]\n",
      "Epoch 06 [Valid]: 100%|██████████| 1500/1500 [00:16<00:00, 90.54img/s] \n"
     ]
    },
    {
     "name": "stdout",
     "output_type": "stream",
     "text": [
      "Epoch 06: train loss 0.4374  val acc 59.07%\n"
     ]
    },
    {
     "name": "stderr",
     "output_type": "stream",
     "text": [
      "Epoch 07 [Train]: 100%|██████████| 13500/13500 [01:28<00:00, 152.58img/s, loss=0.773]\n",
      "Epoch 07 [Valid]: 100%|██████████| 1500/1500 [00:16<00:00, 91.54img/s] \n"
     ]
    },
    {
     "name": "stdout",
     "output_type": "stream",
     "text": [
      "Epoch 07: train loss 0.4165  val acc 59.60%\n"
     ]
    },
    {
     "name": "stderr",
     "output_type": "stream",
     "text": [
      "Epoch 08 [Train]: 100%|██████████| 13500/13500 [01:27<00:00, 154.38img/s, loss=1.09] \n",
      "Epoch 08 [Valid]: 100%|██████████| 1500/1500 [00:16<00:00, 93.38img/s] \n"
     ]
    },
    {
     "name": "stdout",
     "output_type": "stream",
     "text": [
      "Epoch 08: train loss 0.4000  val acc 58.47%\n"
     ]
    },
    {
     "name": "stderr",
     "output_type": "stream",
     "text": [
      "Epoch 09 [Train]: 100%|██████████| 13500/13500 [01:26<00:00, 155.66img/s, loss=0.787]\n",
      "Epoch 09 [Valid]: 100%|██████████| 1500/1500 [00:16<00:00, 91.09img/s] \n"
     ]
    },
    {
     "name": "stdout",
     "output_type": "stream",
     "text": [
      "Epoch 09: train loss 0.3819  val acc 59.27%\n"
     ]
    },
    {
     "name": "stderr",
     "output_type": "stream",
     "text": [
      "Epoch 10 [Train]: 100%|██████████| 13500/13500 [01:27<00:00, 155.16img/s, loss=0.781]\n",
      "Epoch 10 [Valid]: 100%|██████████| 1500/1500 [00:16<00:00, 91.11img/s] \n"
     ]
    },
    {
     "name": "stdout",
     "output_type": "stream",
     "text": [
      "Epoch 10: train loss 0.3561  val acc 61.00%\n"
     ]
    },
    {
     "name": "stderr",
     "output_type": "stream",
     "text": [
      "Epoch 11 [Train]: 100%|██████████| 13500/13500 [01:26<00:00, 155.86img/s, loss=0.761]\n",
      "Epoch 11 [Valid]: 100%|██████████| 1500/1500 [00:16<00:00, 93.61img/s] \n"
     ]
    },
    {
     "name": "stdout",
     "output_type": "stream",
     "text": [
      "Epoch 11: train loss 0.3385  val acc 61.27%\n"
     ]
    },
    {
     "name": "stderr",
     "output_type": "stream",
     "text": [
      "Epoch 12 [Train]: 100%|██████████| 13500/13500 [01:26<00:00, 156.23img/s, loss=0.512]\n",
      "Epoch 12 [Valid]: 100%|██████████| 1500/1500 [00:16<00:00, 91.93img/s] \n"
     ]
    },
    {
     "name": "stdout",
     "output_type": "stream",
     "text": [
      "Epoch 12: train loss 0.3207  val acc 60.27%\n"
     ]
    },
    {
     "name": "stderr",
     "output_type": "stream",
     "text": [
      "Epoch 13 [Train]: 100%|██████████| 13500/13500 [01:27<00:00, 154.69img/s, loss=0.679]\n",
      "Epoch 13 [Valid]: 100%|██████████| 1500/1500 [00:16<00:00, 91.37img/s] \n"
     ]
    },
    {
     "name": "stdout",
     "output_type": "stream",
     "text": [
      "Epoch 13: train loss 0.2998  val acc 61.20%\n"
     ]
    },
    {
     "name": "stderr",
     "output_type": "stream",
     "text": [
      "Epoch 14 [Train]: 100%|██████████| 13500/13500 [01:26<00:00, 155.57img/s, loss=0.586]\n",
      "Epoch 14 [Valid]: 100%|██████████| 1500/1500 [00:16<00:00, 92.21img/s] "
     ]
    },
    {
     "name": "stdout",
     "output_type": "stream",
     "text": [
      "Epoch 14: train loss 0.2719  val acc 62.53%\n"
     ]
    },
    {
     "name": "stderr",
     "output_type": "stream",
     "text": [
      "\n"
     ]
    }
   ],
   "source": [
    "model = models.resnet50(weights=\"IMAGENET1K_V2\")\n",
    "model.conv1 = nn.Conv2d(3, 64, kernel_size=7, stride=2, padding=3, bias=False)  # already 3-ch\n",
    "num_ftrs = model.fc.in_features\n",
    "model.fc  = nn.Linear(num_ftrs, 7) \n",
    "\n",
    "device   = \"cuda\" if torch.cuda.is_available() else \"cpu\"\n",
    "print(f\"Using {device} device\")\n",
    "model    = model.to(device)\n",
    "criterion= nn.CrossEntropyLoss()\n",
    "optimizer= optim.AdamW(filter(lambda p: p.requires_grad, model.parameters()), lr=1e-3)\n",
    "\n",
    "writer = tensorboard.SummaryWriter(log_dir=\"runs/fer_resnet50\") \n",
    "\n",
    "for epoch in range(15):\n",
    "    # Training...\n",
    "    model.train()\n",
    "    running_loss = 0.0\n",
    "    train_bar = tqdm(total=len(train_idxs), desc=f\"Epoch {epoch:02d} [Train]\", unit=\"img\", dynamic_ncols=True)\n",
    "\n",
    "    for x, y in train_loader:\n",
    "        x, y = x.to(device), y.to(device)\n",
    "        optimizer.zero_grad()\n",
    "        out = model(x)\n",
    "        loss = criterion(out, y)\n",
    "        loss.backward()\n",
    "        optimizer.step()\n",
    "\n",
    "        running_loss += loss.item() * x.size(0)\n",
    "        train_bar.update(x.size(0))\n",
    "        train_bar.set_postfix(loss=loss.item())\n",
    "\n",
    "    train_bar.close()\n",
    "\n",
    "    # Validation...\n",
    "    model.eval()\n",
    "    correct = total = 0\n",
    "    val_bar = tqdm(total=len(val_idxs), desc=f\"Epoch {epoch:02d} [Valid]\", unit=\"img\", dynamic_ncols=True)\n",
    "\n",
    "    with torch.no_grad():\n",
    "        for x, y in val_loader:\n",
    "            x, y = x.to(device), y.to(device)\n",
    "            pred = model(x).argmax(1)\n",
    "            correct += (pred == y).sum().item()\n",
    "            total   += y.size(0)\n",
    "            val_bar.update(x.size(0))\n",
    "\n",
    "    val_bar.close()\n",
    "\n",
    "    train_loss = running_loss / len(train_loader.dataset)\n",
    "    val_acc    = 100 * correct / total\n",
    "\n",
    "    # <<<<<<<<<<<< Add TensorBoard logs here\n",
    "    writer.add_scalar('Loss/train', train_loss, epoch)\n",
    "    writer.add_scalar('Accuracy/val', val_acc, epoch)\n",
    "\n",
    "    print(f\"Epoch {epoch:02d}: train loss {train_loss:.4f}  val acc {val_acc:.2f}%\")\n",
    "\n",
    "# after all epochs\n",
    "writer.close()"
   ]
  },
  {
   "cell_type": "code",
   "execution_count": 6,
   "id": "be93e85d",
   "metadata": {},
   "outputs": [
    {
     "name": "stdout",
     "output_type": "stream",
     "text": [
      "Found 7178 images belonging to 7 classes.\n"
     ]
    }
   ],
   "source": [
    "test_datagen = ImageDataGenerator(rescale=1.0/255)\n",
    "\n",
    "test_generator = test_datagen.flow_from_directory(\n",
    "    directory=os.path.join(\"dataset\", \"fer2013\", \"test\"),\n",
    "    target_size=(48, 48),\n",
    "    color_mode=\"grayscale\",\n",
    "    batch_size=64,\n",
    "    class_mode=\"categorical\",\n",
    "    shuffle=False\n",
    ")"
   ]
  },
  {
   "cell_type": "code",
   "execution_count": 7,
   "id": "f59fabfc",
   "metadata": {},
   "outputs": [
    {
     "name": "stdout",
     "output_type": "stream",
     "text": [
      "[PyTorch] Test accuracy: 0.6360 (4565/7178)\n"
     ]
    }
   ],
   "source": [
    "model.eval()\n",
    "\n",
    "correct = total = 0\n",
    "criterion = nn.CrossEntropyLoss()\n",
    "\n",
    "test_loader  = DataLoader(test_ds,  batch_size=64, num_workers=4, pin_memory=True)\n",
    "\n",
    "with torch.no_grad():\n",
    "    for imgs, labels in test_loader:\n",
    "        imgs, labels = imgs.to(device), labels.to(device)\n",
    "        outputs = model(imgs)\n",
    "        loss = criterion(outputs, labels)\n",
    "        preds = outputs.argmax(dim=1)\n",
    "        correct += (preds == labels).sum().item()\n",
    "        total   += labels.size(0)\n",
    "\n",
    "print(f\"[PyTorch] Test accuracy: {correct/total:.4f} ({correct}/{total})\")"
   ]
  },
  {
   "cell_type": "code",
   "execution_count": 8,
   "id": "2e51d135",
   "metadata": {},
   "outputs": [],
   "source": [
    "# save the model \n",
    "model_path = \"models/fer_resnet50.pth\"\n",
    "torch.save(model.state_dict(), model_path)\n",
    "\n",
    "# load the model\n",
    "# model = models.resnet50(weights=\"IMAGENET1K_V2\")\n",
    "# model.conv1 = nn.Conv2d(3, 64, kernel_size=7, stride=2, padding=3, bias=False)  # already 3-ch\n",
    "# num_ftrs = model.fc.in_features\n",
    "# model.fc = nn.Sequential(\n",
    "#     nn.Linear(num_ftrs, 512),\n",
    "#     nn.ReLU(),\n",
    "#     nn.Linear(512, 7)\n",
    "# )\n",
    "# model.load_state_dict(torch.load(model_path))\n",
    "# model.eval()"
   ]
  },
  {
   "cell_type": "code",
   "execution_count": 9,
   "id": "c8285b9c",
   "metadata": {},
   "outputs": [
    {
     "data": {
      "image/png": "[encoded data removed]",
      "text/plain": [
       "<Figure size 700x600 with 2 Axes>"
      ]
     },
     "metadata": {},
     "output_type": "display_data"
    }
   ],
   "source": [
    "# Assuming you already have a trained model and test_loader\n",
    "device = \"cuda\" if torch.cuda.is_available() else \"cpu\"\n",
    "\n",
    "# 1. Predict all test images\n",
    "all_preds = []\n",
    "all_labels = []\n",
    "\n",
    "model.eval()\n",
    "with torch.no_grad():\n",
    "    for x, y in test_loader:\n",
    "        x, y = x.to(device), y.to(device)\n",
    "        outputs = model(x)\n",
    "        preds = outputs.argmax(dim=1)\n",
    "\n",
    "        all_preds.append(preds.cpu().numpy())\n",
    "        all_labels.append(y.cpu().numpy())\n",
    "\n",
    "# 2. Flatten lists\n",
    "all_preds = np.concatenate(all_preds)\n",
    "all_labels = np.concatenate(all_labels)\n",
    "\n",
    "# 3. Create confusion matrix\n",
    "cm = confusion_matrix(all_labels, all_preds)\n",
    "cm_normalized = cm.astype('float') / cm.sum(axis=1)[:, np.newaxis]\n",
    "\n",
    "# 4. Define class names (match the dataset folder order!)\n",
    "class_names = ['Angry', 'Disgust', 'Fear', 'Happy', 'Neutral', 'Sad', 'Surprise']\n",
    "\n",
    "# 5. Plot the heatmap\n",
    "plt.figure(figsize=(7,6))\n",
    "sns.heatmap(cm_normalized, annot=True, fmt='.2f', cmap='YlOrBr', \n",
    "            xticklabels=class_names, yticklabels=class_names, cbar=True)\n",
    "\n",
    "plt.xlabel('Predicted Label')\n",
    "plt.ylabel('Actual Label')\n",
    "plt.title(f'FER, Test Accuracy: {100*np.trace(cm)/np.sum(cm):.2f}%')\n",
    "plt.tight_layout()\n",
    "plt.show()\n"
   ]
  }
 ],
 "metadata": {
  "kernelspec": {
   "display_name": ".venv",
   "language": "python",
   "name": "python3"
  },
  "language_info": {
   "codemirror_mode": {
    "name": "ipython",
    "version": 3
   },
   "file_extension": ".py",
   "mimetype": "text/x-python",
   "name": "python",
   "nbconvert_exporter": "python",
   "pygments_lexer": "ipython3",
   "version": "3.12.5"
  }
 },
 "nbformat": 4,
 "nbformat_minor": 5
}
