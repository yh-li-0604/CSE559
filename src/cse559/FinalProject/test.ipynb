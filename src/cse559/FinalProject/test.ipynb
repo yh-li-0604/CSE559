{
 "cells": [
  {
   "cell_type": "markdown",
   "id": "70897d93",
   "metadata": {},
   "source": [
    "# CSE 559 Final Project\n",
    "\n",
    "Author: Yunhe Li, Zeyuan Zong\n",
    "\n",
    "This project is face detection & blurring, with facial expression estimation\n",
    "\n",
    "This script is the test for facial expression estimation.\n",
    "\n",
    "Goal: Given a face image, which type of facial expression will be outputed. facial expression classes: [angry, disgust, fear, happy, neutral, sad, surprise]\n",
    "\n",
    "Todo: \n",
    "1. Design a model to connect input and output\n",
    "2. Train the CNN model for a few epochs to see the convergence \n",
    "3. Test on our implemented CNN model\n",
    "4. We found built-in facial expression model from face-recognition, we will use it as a comparision. "
   ]
  },
  {
   "cell_type": "code",
   "execution_count": 1,
   "id": "546969c7",
   "metadata": {},
   "outputs": [],
   "source": [
    "import torchvision.models as models\n",
    "import torch.nn as nn\n",
    "from torchvision import datasets, transforms\n",
    "from torch.utils.data import DataLoader, random_split, SubsetRandomSampler\n",
    "import torch\n",
    "from torch import optim\n",
    "import numpy as np\n",
    "from tqdm import tqdm\n",
    "from keras.models import model_from_json\n",
    "from tensorflow.keras.preprocessing.image import ImageDataGenerator\n",
    "from torch.utils import tensorboard\n",
    "import tensorflow as tf\n",
    "import os\n",
    "import matplotlib.pyplot as plt\n",
    "import seaborn as sns\n",
    "from sklearn.metrics import confusion_matrix"
   ]
  },
  {
   "cell_type": "markdown",
   "id": "c3029388",
   "metadata": {},
   "source": [
    "## Build the model \n",
    "\n",
    "For the model selection, we decided to use resnet-50 as the feature extraction. \n",
    "\n",
    "After we embedded the features, we map all the features first to high dimensions and then back to 7 different classes with nonlinear ReLu() connected in between."
   ]
  },
  {
   "cell_type": "code",
   "execution_count": 2,
   "id": "525b99bd",
   "metadata": {},
   "outputs": [],
   "source": [
    "backbone = models.resnet50(weights='IMAGENET1K_V2')  \n",
    "num_ftrs = backbone.fc.in_features\n",
    "# Add two linear layers and relu at the end\n",
    "backbone.fc = nn.Sequential(\n",
    "    nn.Linear(num_ftrs, 512),\n",
    "    nn.ReLU(),\n",
    "    nn.Linear(512, 7)\n",
    ")\n",
    "# for name, param in backbone.named_parameters():\n",
    "#     param.requires_grad = False           \n",
    "# for p in backbone.fc.parameters():\n",
    "#     p.requires_grad = True                 "
   ]
  },
  {
   "cell_type": "markdown",
   "id": "7f488b65",
   "metadata": {},
   "source": [
    "## Load the data\n",
    "\n",
    "Load data. \n",
    "\n",
    "Need to be attention that the original image is in grayscale, but resnet-50 allows color input. We need to broadcast the grayscale images to the colored channels. "
   ]
  },
  {
   "cell_type": "code",
   "execution_count": 3,
   "id": "3fb4a618",
   "metadata": {},
   "outputs": [],
   "source": [
    "root = \"dataset\"          #  ←  the directory that contains /train  and /test\n",
    "\n",
    "# 48×48 → 224×224, 3-channel copy, normalise to ImageNet stats\n",
    "common_tfms = [\n",
    "    transforms.Grayscale(num_output_channels=3),   # 1→3 channels\n",
    "    transforms.Resize(224),\n",
    "    transforms.ToTensor(),\n",
    "    transforms.Normalize([0.485, 0.456, 0.406],\n",
    "                         [0.229, 0.224, 0.225]),\n",
    "]\n",
    "\n",
    "train_tfms = transforms.Compose([\n",
    "    transforms.RandomHorizontalFlip(),\n",
    "    transforms.RandomRotation(10),\n",
    "    *common_tfms,\n",
    "])\n",
    "val_tfms = transforms.Compose(common_tfms)\n",
    "\n",
    "train_ds = datasets.ImageFolder(f\"{root}/fer2013/train\", transform=train_tfms)\n",
    "test_ds  = datasets.ImageFolder(f\"{root}/fer2013/test\",  transform=val_tfms)\n",
    "\n",
    "\n",
    "num_samples    = len(train_ds)\n",
    "all_indices    = np.arange(len(train_ds))\n",
    "np.random.seed(42)\n",
    "chosen_indices = np.random.choice(all_indices, size=num_samples, replace=False)\n",
    "\n",
    "\n",
    "val_frac = 0.1\n",
    "val_size = int(num_samples * val_frac)\n",
    "train_size = num_samples - val_size\n",
    "\n",
    "np.random.shuffle(chosen_indices)\n",
    "train_idxs = chosen_indices[:train_size]\n",
    "val_idxs   = chosen_indices[train_size:]\n",
    "\n",
    "train_sampler = SubsetRandomSampler(train_idxs)\n",
    "val_sampler   = SubsetRandomSampler(val_idxs)\n",
    "\n",
    "# If want to use only part of the dataset, uncomment the following lines\n",
    "train_loader = DataLoader(train_ds, batch_size=64, num_workers=4, pin_memory=True,sampler=train_sampler)\n",
    "val_loader   = DataLoader(train_ds,   batch_size=64, num_workers=4, pin_memory=True,sampler=val_sampler)"
   ]
  },
  {
   "cell_type": "code",
   "execution_count": 4,
   "id": "2eb3ce70",
   "metadata": {},
   "outputs": [
    {
     "name": "stdout",
     "output_type": "stream",
     "text": [
      "Using cuda device\n"
     ]
    },
    {
     "name": "stderr",
     "output_type": "stream",
     "text": [
      "Epoch 00 [Train]: 100%|██████████| 25839/25839 [02:36<00:00, 165.36img/s, loss=1.53] \n",
      "Epoch 00 [Valid]: 100%|██████████| 2870/2870 [00:19<00:00, 148.11img/s]\n"
     ]
    },
    {
     "name": "stdout",
     "output_type": "stream",
     "text": [
      "Epoch 00: train loss 1.2440  val acc 51.92%\n"
     ]
    },
    {
     "name": "stderr",
     "output_type": "stream",
     "text": [
      "Epoch 01 [Train]: 100%|██████████| 25839/25839 [02:36<00:00, 164.95img/s, loss=0.973]\n",
      "Epoch 01 [Valid]: 100%|██████████| 2870/2870 [00:18<00:00, 151.13img/s]\n"
     ]
    },
    {
     "name": "stdout",
     "output_type": "stream",
     "text": [
      "Epoch 01: train loss 1.0361  val acc 52.51%\n"
     ]
    },
    {
     "name": "stderr",
     "output_type": "stream",
     "text": [
      "Epoch 02 [Train]: 100%|██████████| 25839/25839 [02:38<00:00, 163.27img/s, loss=1.1]  \n",
      "Epoch 02 [Valid]: 100%|██████████| 2870/2870 [00:19<00:00, 150.30img/s]\n"
     ]
    },
    {
     "name": "stdout",
     "output_type": "stream",
     "text": [
      "Epoch 02: train loss 0.9560  val acc 57.00%\n"
     ]
    },
    {
     "name": "stderr",
     "output_type": "stream",
     "text": [
      "Epoch 03 [Train]: 100%|██████████| 25839/25839 [02:40<00:00, 161.34img/s, loss=1.01] \n",
      "Epoch 03 [Valid]: 100%|██████████| 2870/2870 [00:19<00:00, 150.12img/s]\n"
     ]
    },
    {
     "name": "stdout",
     "output_type": "stream",
     "text": [
      "Epoch 03: train loss 0.9074  val acc 62.37%\n"
     ]
    },
    {
     "name": "stderr",
     "output_type": "stream",
     "text": [
      "Epoch 04 [Train]: 100%|██████████| 25839/25839 [02:37<00:00, 163.62img/s, loss=0.691]\n",
      "Epoch 04 [Valid]: 100%|██████████| 2870/2870 [00:22<00:00, 128.76img/s]\n"
     ]
    },
    {
     "name": "stdout",
     "output_type": "stream",
     "text": [
      "Epoch 04: train loss 0.8693  val acc 62.51%\n"
     ]
    },
    {
     "name": "stderr",
     "output_type": "stream",
     "text": [
      "Epoch 05 [Train]: 100%|██████████| 25839/25839 [02:38<00:00, 162.56img/s, loss=0.88] \n",
      "Epoch 05 [Valid]: 100%|██████████| 2870/2870 [00:19<00:00, 150.18img/s]\n"
     ]
    },
    {
     "name": "stdout",
     "output_type": "stream",
     "text": [
      "Epoch 05: train loss 0.8289  val acc 62.44%\n"
     ]
    },
    {
     "name": "stderr",
     "output_type": "stream",
     "text": [
      "Epoch 06 [Train]: 100%|██████████| 25839/25839 [02:38<00:00, 162.96img/s, loss=1]    \n",
      "Epoch 06 [Valid]: 100%|██████████| 2870/2870 [00:23<00:00, 123.56img/s]\n"
     ]
    },
    {
     "name": "stdout",
     "output_type": "stream",
     "text": [
      "Epoch 06: train loss 0.7992  val acc 60.00%\n"
     ]
    },
    {
     "name": "stderr",
     "output_type": "stream",
     "text": [
      "Epoch 07 [Train]: 100%|██████████| 25839/25839 [02:37<00:00, 163.75img/s, loss=0.879]\n",
      "Epoch 07 [Valid]: 100%|██████████| 2870/2870 [00:18<00:00, 151.73img/s]\n"
     ]
    },
    {
     "name": "stdout",
     "output_type": "stream",
     "text": [
      "Epoch 07: train loss 0.7669  val acc 64.88%\n"
     ]
    },
    {
     "name": "stderr",
     "output_type": "stream",
     "text": [
      "Epoch 08 [Train]: 100%|██████████| 25839/25839 [02:36<00:00, 165.11img/s, loss=0.902]\n",
      "Epoch 08 [Valid]: 100%|██████████| 2870/2870 [00:19<00:00, 150.42img/s]\n"
     ]
    },
    {
     "name": "stdout",
     "output_type": "stream",
     "text": [
      "Epoch 08: train loss 0.7322  val acc 65.92%\n"
     ]
    },
    {
     "name": "stderr",
     "output_type": "stream",
     "text": [
      "Epoch 09 [Train]: 100%|██████████| 25839/25839 [02:39<00:00, 161.81img/s, loss=0.784]\n",
      "Epoch 09 [Valid]: 100%|██████████| 2870/2870 [00:18<00:00, 152.34img/s]\n"
     ]
    },
    {
     "name": "stdout",
     "output_type": "stream",
     "text": [
      "Epoch 09: train loss 0.6948  val acc 63.48%\n"
     ]
    },
    {
     "name": "stderr",
     "output_type": "stream",
     "text": [
      "Epoch 10 [Train]: 100%|██████████| 25839/25839 [02:36<00:00, 164.73img/s, loss=0.711]\n",
      "Epoch 10 [Valid]: 100%|██████████| 2870/2870 [00:19<00:00, 148.90img/s]\n"
     ]
    },
    {
     "name": "stdout",
     "output_type": "stream",
     "text": [
      "Epoch 10: train loss 0.6623  val acc 64.46%\n"
     ]
    },
    {
     "name": "stderr",
     "output_type": "stream",
     "text": [
      "Epoch 11 [Train]: 100%|██████████| 25839/25839 [02:40<00:00, 161.43img/s, loss=0.593]\n",
      "Epoch 11 [Valid]: 100%|██████████| 2870/2870 [00:19<00:00, 150.14img/s]\n"
     ]
    },
    {
     "name": "stdout",
     "output_type": "stream",
     "text": [
      "Epoch 11: train loss 0.6248  val acc 64.43%\n"
     ]
    },
    {
     "name": "stderr",
     "output_type": "stream",
     "text": [
      "Epoch 12 [Train]: 100%|██████████| 25839/25839 [02:33<00:00, 168.75img/s, loss=0.531]\n",
      "Epoch 12 [Valid]: 100%|██████████| 2870/2870 [00:19<00:00, 147.05img/s]\n"
     ]
    },
    {
     "name": "stdout",
     "output_type": "stream",
     "text": [
      "Epoch 12: train loss 0.5876  val acc 64.95%\n"
     ]
    },
    {
     "name": "stderr",
     "output_type": "stream",
     "text": [
      "Epoch 13 [Train]: 100%|██████████| 25839/25839 [02:33<00:00, 168.14img/s, loss=0.647]\n",
      "Epoch 13 [Valid]: 100%|██████████| 2870/2870 [00:20<00:00, 138.70img/s]\n"
     ]
    },
    {
     "name": "stdout",
     "output_type": "stream",
     "text": [
      "Epoch 13: train loss 0.5457  val acc 65.92%\n"
     ]
    },
    {
     "name": "stderr",
     "output_type": "stream",
     "text": [
      "Epoch 14 [Train]: 100%|██████████| 25839/25839 [02:31<00:00, 170.42img/s, loss=0.724]\n",
      "Epoch 14 [Valid]: 100%|██████████| 2870/2870 [00:20<00:00, 140.76img/s]\n"
     ]
    },
    {
     "name": "stdout",
     "output_type": "stream",
     "text": [
      "Epoch 14: train loss 0.5055  val acc 65.16%\n"
     ]
    },
    {
     "name": "stderr",
     "output_type": "stream",
     "text": [
      "Epoch 15 [Train]: 100%|██████████| 25839/25839 [02:31<00:00, 170.15img/s, loss=0.702]\n",
      "Epoch 15 [Valid]: 100%|██████████| 2870/2870 [00:20<00:00, 137.25img/s]\n"
     ]
    },
    {
     "name": "stdout",
     "output_type": "stream",
     "text": [
      "Epoch 15: train loss 0.4645  val acc 64.36%\n"
     ]
    },
    {
     "name": "stderr",
     "output_type": "stream",
     "text": [
      "Epoch 16 [Train]: 100%|██████████| 25839/25839 [02:32<00:00, 169.63img/s, loss=0.513]\n",
      "Epoch 16 [Valid]: 100%|██████████| 2870/2870 [00:19<00:00, 149.24img/s]\n"
     ]
    },
    {
     "name": "stdout",
     "output_type": "stream",
     "text": [
      "Epoch 16: train loss 0.4304  val acc 65.05%\n"
     ]
    },
    {
     "name": "stderr",
     "output_type": "stream",
     "text": [
      "Epoch 17 [Train]: 100%|██████████| 25839/25839 [02:31<00:00, 170.09img/s, loss=0.366]\n",
      "Epoch 17 [Valid]: 100%|██████████| 2870/2870 [00:23<00:00, 123.07img/s]\n"
     ]
    },
    {
     "name": "stdout",
     "output_type": "stream",
     "text": [
      "Epoch 17: train loss 0.3830  val acc 65.02%\n"
     ]
    },
    {
     "name": "stderr",
     "output_type": "stream",
     "text": [
      "Epoch 18 [Train]: 100%|██████████| 25839/25839 [02:31<00:00, 170.53img/s, loss=0.48] \n",
      "Epoch 18 [Valid]: 100%|██████████| 2870/2870 [00:19<00:00, 150.46img/s]\n"
     ]
    },
    {
     "name": "stdout",
     "output_type": "stream",
     "text": [
      "Epoch 18: train loss 0.3531  val acc 67.98%\n"
     ]
    },
    {
     "name": "stderr",
     "output_type": "stream",
     "text": [
      "Epoch 19 [Train]: 100%|██████████| 25839/25839 [02:31<00:00, 170.34img/s, loss=0.274]\n",
      "Epoch 19 [Valid]: 100%|██████████| 2870/2870 [00:22<00:00, 128.33img/s]\n"
     ]
    },
    {
     "name": "stdout",
     "output_type": "stream",
     "text": [
      "Epoch 19: train loss 0.3138  val acc 66.24%\n"
     ]
    },
    {
     "name": "stderr",
     "output_type": "stream",
     "text": [
      "Epoch 20 [Train]: 100%|██████████| 25839/25839 [02:32<00:00, 169.96img/s, loss=0.361]\n",
      "Epoch 20 [Valid]: 100%|██████████| 2870/2870 [00:19<00:00, 148.68img/s]\n"
     ]
    },
    {
     "name": "stdout",
     "output_type": "stream",
     "text": [
      "Epoch 20: train loss 0.2826  val acc 67.07%\n"
     ]
    },
    {
     "name": "stderr",
     "output_type": "stream",
     "text": [
      "Epoch 21 [Train]: 100%|██████████| 25839/25839 [02:31<00:00, 170.11img/s, loss=0.416] \n",
      "Epoch 21 [Valid]: 100%|██████████| 2870/2870 [00:20<00:00, 142.79img/s]\n"
     ]
    },
    {
     "name": "stdout",
     "output_type": "stream",
     "text": [
      "Epoch 21: train loss 0.2625  val acc 64.18%\n"
     ]
    },
    {
     "name": "stderr",
     "output_type": "stream",
     "text": [
      "Epoch 22 [Train]: 100%|██████████| 25839/25839 [02:31<00:00, 170.16img/s, loss=0.333] \n",
      "Epoch 22 [Valid]: 100%|██████████| 2870/2870 [00:20<00:00, 138.62img/s]\n"
     ]
    },
    {
     "name": "stdout",
     "output_type": "stream",
     "text": [
      "Epoch 22: train loss 0.2296  val acc 65.51%\n"
     ]
    },
    {
     "name": "stderr",
     "output_type": "stream",
     "text": [
      "Epoch 23 [Train]: 100%|██████████| 25839/25839 [02:31<00:00, 170.61img/s, loss=0.381] \n",
      "Epoch 23 [Valid]: 100%|██████████| 2870/2870 [00:21<00:00, 133.48img/s]\n"
     ]
    },
    {
     "name": "stdout",
     "output_type": "stream",
     "text": [
      "Epoch 23: train loss 0.2169  val acc 64.77%\n"
     ]
    },
    {
     "name": "stderr",
     "output_type": "stream",
     "text": [
      "Epoch 24 [Train]: 100%|██████████| 25839/25839 [02:31<00:00, 171.03img/s, loss=0.194] \n",
      "Epoch 24 [Valid]: 100%|██████████| 2870/2870 [00:22<00:00, 126.89img/s]\n"
     ]
    },
    {
     "name": "stdout",
     "output_type": "stream",
     "text": [
      "Epoch 24: train loss 0.2014  val acc 64.49%\n"
     ]
    },
    {
     "name": "stderr",
     "output_type": "stream",
     "text": [
      "Epoch 25 [Train]: 100%|██████████| 25839/25839 [02:32<00:00, 169.92img/s, loss=0.371] \n",
      "Epoch 25 [Valid]: 100%|██████████| 2870/2870 [00:21<00:00, 135.74img/s]\n"
     ]
    },
    {
     "name": "stdout",
     "output_type": "stream",
     "text": [
      "Epoch 25: train loss 0.1841  val acc 64.84%\n"
     ]
    },
    {
     "name": "stderr",
     "output_type": "stream",
     "text": [
      "Epoch 26 [Train]: 100%|██████████| 25839/25839 [02:31<00:00, 170.32img/s, loss=0.328] \n",
      "Epoch 26 [Valid]: 100%|██████████| 2870/2870 [00:21<00:00, 134.04img/s]\n"
     ]
    },
    {
     "name": "stdout",
     "output_type": "stream",
     "text": [
      "Epoch 26: train loss 0.1747  val acc 65.85%\n"
     ]
    },
    {
     "name": "stderr",
     "output_type": "stream",
     "text": [
      "Epoch 27 [Train]: 100%|██████████| 25839/25839 [02:32<00:00, 169.87img/s, loss=0.164] \n",
      "Epoch 27 [Valid]: 100%|██████████| 2870/2870 [00:21<00:00, 133.85img/s]\n"
     ]
    },
    {
     "name": "stdout",
     "output_type": "stream",
     "text": [
      "Epoch 27: train loss 0.1567  val acc 65.12%\n"
     ]
    },
    {
     "name": "stderr",
     "output_type": "stream",
     "text": [
      "Epoch 28 [Train]: 100%|██████████| 25839/25839 [02:31<00:00, 170.73img/s, loss=0.0516]\n",
      "Epoch 28 [Valid]: 100%|██████████| 2870/2870 [00:20<00:00, 137.07img/s]\n"
     ]
    },
    {
     "name": "stdout",
     "output_type": "stream",
     "text": [
      "Epoch 28: train loss 0.1536  val acc 64.60%\n"
     ]
    },
    {
     "name": "stderr",
     "output_type": "stream",
     "text": [
      "Epoch 29 [Train]: 100%|██████████| 25839/25839 [02:32<00:00, 169.74img/s, loss=0.125] \n",
      "Epoch 29 [Valid]: 100%|██████████| 2870/2870 [00:22<00:00, 129.52img/s]\n"
     ]
    },
    {
     "name": "stdout",
     "output_type": "stream",
     "text": [
      "Epoch 29: train loss 0.1451  val acc 66.76%\n"
     ]
    },
    {
     "name": "stderr",
     "output_type": "stream",
     "text": [
      "Epoch 30 [Train]: 100%|██████████| 25839/25839 [02:30<00:00, 171.46img/s, loss=0.237] \n",
      "Epoch 30 [Valid]: 100%|██████████| 2870/2870 [00:20<00:00, 142.71img/s]\n"
     ]
    },
    {
     "name": "stdout",
     "output_type": "stream",
     "text": [
      "Epoch 30: train loss 0.1326  val acc 64.43%\n"
     ]
    },
    {
     "name": "stderr",
     "output_type": "stream",
     "text": [
      "Epoch 31 [Train]: 100%|██████████| 25839/25839 [02:31<00:00, 170.04img/s, loss=0.15]  \n",
      "Epoch 31 [Valid]: 100%|██████████| 2870/2870 [00:22<00:00, 126.27img/s]\n"
     ]
    },
    {
     "name": "stdout",
     "output_type": "stream",
     "text": [
      "Epoch 31: train loss 0.1373  val acc 65.64%\n"
     ]
    },
    {
     "name": "stderr",
     "output_type": "stream",
     "text": [
      "Epoch 32 [Train]: 100%|██████████| 25839/25839 [02:32<00:00, 169.90img/s, loss=0.0771]\n",
      "Epoch 32 [Valid]: 100%|██████████| 2870/2870 [00:19<00:00, 149.68img/s]\n"
     ]
    },
    {
     "name": "stdout",
     "output_type": "stream",
     "text": [
      "Epoch 32: train loss 0.1258  val acc 66.20%\n"
     ]
    },
    {
     "name": "stderr",
     "output_type": "stream",
     "text": [
      "Epoch 33 [Train]: 100%|██████████| 25839/25839 [02:31<00:00, 170.58img/s, loss=0.124] \n",
      "Epoch 33 [Valid]: 100%|██████████| 2870/2870 [00:22<00:00, 128.68img/s]\n"
     ]
    },
    {
     "name": "stdout",
     "output_type": "stream",
     "text": [
      "Epoch 33: train loss 0.1227  val acc 66.55%\n"
     ]
    },
    {
     "name": "stderr",
     "output_type": "stream",
     "text": [
      "Epoch 34 [Train]: 100%|██████████| 25839/25839 [02:32<00:00, 169.84img/s, loss=0.146] \n",
      "Epoch 34 [Valid]: 100%|██████████| 2870/2870 [00:21<00:00, 135.29img/s]\n"
     ]
    },
    {
     "name": "stdout",
     "output_type": "stream",
     "text": [
      "Epoch 34: train loss 0.1164  val acc 65.02%\n"
     ]
    },
    {
     "name": "stderr",
     "output_type": "stream",
     "text": [
      "Epoch 35 [Train]: 100%|██████████| 25839/25839 [02:33<00:00, 168.81img/s, loss=0.129] \n",
      "Epoch 35 [Valid]: 100%|██████████| 2870/2870 [00:22<00:00, 129.50img/s]\n"
     ]
    },
    {
     "name": "stdout",
     "output_type": "stream",
     "text": [
      "Epoch 35: train loss 0.1071  val acc 67.91%\n"
     ]
    },
    {
     "name": "stderr",
     "output_type": "stream",
     "text": [
      "Epoch 36 [Train]: 100%|██████████| 25839/25839 [02:31<00:00, 170.11img/s, loss=0.172] \n",
      "Epoch 36 [Valid]: 100%|██████████| 2870/2870 [00:20<00:00, 138.38img/s]\n"
     ]
    },
    {
     "name": "stdout",
     "output_type": "stream",
     "text": [
      "Epoch 36: train loss 0.1016  val acc 66.83%\n"
     ]
    },
    {
     "name": "stderr",
     "output_type": "stream",
     "text": [
      "Epoch 37 [Train]: 100%|██████████| 25839/25839 [02:32<00:00, 169.95img/s, loss=0.0898]\n",
      "Epoch 37 [Valid]: 100%|██████████| 2870/2870 [00:21<00:00, 136.62img/s]\n"
     ]
    },
    {
     "name": "stdout",
     "output_type": "stream",
     "text": [
      "Epoch 37: train loss 0.1022  val acc 67.32%\n"
     ]
    },
    {
     "name": "stderr",
     "output_type": "stream",
     "text": [
      "Epoch 38 [Train]: 100%|██████████| 25839/25839 [02:31<00:00, 170.75img/s, loss=0.176] \n",
      "Epoch 38 [Valid]: 100%|██████████| 2870/2870 [00:20<00:00, 138.22img/s]\n"
     ]
    },
    {
     "name": "stdout",
     "output_type": "stream",
     "text": [
      "Epoch 38: train loss 0.1056  val acc 66.52%\n"
     ]
    },
    {
     "name": "stderr",
     "output_type": "stream",
     "text": [
      "Epoch 39 [Train]: 100%|██████████| 25839/25839 [02:31<00:00, 170.68img/s, loss=0.083] \n",
      "Epoch 39 [Valid]: 100%|██████████| 2870/2870 [00:22<00:00, 127.52img/s]\n"
     ]
    },
    {
     "name": "stdout",
     "output_type": "stream",
     "text": [
      "Epoch 39: train loss 0.0975  val acc 65.82%\n"
     ]
    },
    {
     "name": "stderr",
     "output_type": "stream",
     "text": [
      "Epoch 40 [Train]: 100%|██████████| 25839/25839 [02:32<00:00, 169.46img/s, loss=0.248] \n",
      "Epoch 40 [Valid]: 100%|██████████| 2870/2870 [00:19<00:00, 149.59img/s]\n"
     ]
    },
    {
     "name": "stdout",
     "output_type": "stream",
     "text": [
      "Epoch 40: train loss 0.1013  val acc 66.93%\n"
     ]
    },
    {
     "name": "stderr",
     "output_type": "stream",
     "text": [
      "Epoch 41 [Train]: 100%|██████████| 25839/25839 [02:31<00:00, 170.72img/s, loss=0.188] \n",
      "Epoch 41 [Valid]: 100%|██████████| 2870/2870 [00:22<00:00, 129.18img/s]\n"
     ]
    },
    {
     "name": "stdout",
     "output_type": "stream",
     "text": [
      "Epoch 41: train loss 0.0925  val acc 65.54%\n"
     ]
    },
    {
     "name": "stderr",
     "output_type": "stream",
     "text": [
      "Epoch 42 [Train]: 100%|██████████| 25839/25839 [02:31<00:00, 170.82img/s, loss=0.169] \n",
      "Epoch 42 [Valid]: 100%|██████████| 2870/2870 [00:21<00:00, 134.31img/s]\n"
     ]
    },
    {
     "name": "stdout",
     "output_type": "stream",
     "text": [
      "Epoch 42: train loss 0.0867  val acc 65.61%\n"
     ]
    },
    {
     "name": "stderr",
     "output_type": "stream",
     "text": [
      "Epoch 43 [Train]: 100%|██████████| 25839/25839 [02:30<00:00, 171.31img/s, loss=0.184] \n",
      "Epoch 43 [Valid]: 100%|██████████| 2870/2870 [00:20<00:00, 139.51img/s]\n"
     ]
    },
    {
     "name": "stdout",
     "output_type": "stream",
     "text": [
      "Epoch 43: train loss 0.0895  val acc 64.04%\n"
     ]
    },
    {
     "name": "stderr",
     "output_type": "stream",
     "text": [
      "Epoch 44 [Train]: 100%|██████████| 25839/25839 [02:31<00:00, 170.08img/s, loss=0.333]  \n",
      "Epoch 44 [Valid]: 100%|██████████| 2870/2870 [00:23<00:00, 121.79img/s]\n"
     ]
    },
    {
     "name": "stdout",
     "output_type": "stream",
     "text": [
      "Epoch 44: train loss 0.0863  val acc 64.91%\n"
     ]
    },
    {
     "name": "stderr",
     "output_type": "stream",
     "text": [
      "Epoch 45 [Train]: 100%|██████████| 25839/25839 [02:32<00:00, 169.74img/s, loss=0.0909]\n",
      "Epoch 45 [Valid]: 100%|██████████| 2870/2870 [00:21<00:00, 134.75img/s]\n"
     ]
    },
    {
     "name": "stdout",
     "output_type": "stream",
     "text": [
      "Epoch 45: train loss 0.0773  val acc 65.61%\n"
     ]
    },
    {
     "name": "stderr",
     "output_type": "stream",
     "text": [
      "Epoch 46 [Train]: 100%|██████████| 25839/25839 [02:32<00:00, 169.40img/s, loss=0.0599]\n",
      "Epoch 46 [Valid]: 100%|██████████| 2870/2870 [00:20<00:00, 138.15img/s]\n"
     ]
    },
    {
     "name": "stdout",
     "output_type": "stream",
     "text": [
      "Epoch 46: train loss 0.0801  val acc 66.06%\n"
     ]
    },
    {
     "name": "stderr",
     "output_type": "stream",
     "text": [
      "Epoch 47 [Train]: 100%|██████████| 25839/25839 [02:31<00:00, 170.42img/s, loss=0.161]  \n",
      "Epoch 47 [Valid]: 100%|██████████| 2870/2870 [00:21<00:00, 135.34img/s]\n"
     ]
    },
    {
     "name": "stdout",
     "output_type": "stream",
     "text": [
      "Epoch 47: train loss 0.0756  val acc 66.62%\n"
     ]
    },
    {
     "name": "stderr",
     "output_type": "stream",
     "text": [
      "Epoch 48 [Train]: 100%|██████████| 25839/25839 [02:32<00:00, 169.52img/s, loss=0.0453]\n",
      "Epoch 48 [Valid]: 100%|██████████| 2870/2870 [00:20<00:00, 138.46img/s]\n"
     ]
    },
    {
     "name": "stdout",
     "output_type": "stream",
     "text": [
      "Epoch 48: train loss 0.0810  val acc 66.45%\n"
     ]
    },
    {
     "name": "stderr",
     "output_type": "stream",
     "text": [
      "Epoch 49 [Train]: 100%|██████████| 25839/25839 [02:32<00:00, 169.18img/s, loss=0.0607]\n",
      "Epoch 49 [Valid]: 100%|██████████| 2870/2870 [00:22<00:00, 128.94img/s]"
     ]
    },
    {
     "name": "stdout",
     "output_type": "stream",
     "text": [
      "Epoch 49: train loss 0.0753  val acc 66.10%\n"
     ]
    },
    {
     "name": "stderr",
     "output_type": "stream",
     "text": [
      "\n"
     ]
    },
    {
     "data": {
      "image/png": "[encoded data removed]",
      "text/plain": [
       "<Figure size 640x480 with 1 Axes>"
      ]
     },
     "metadata": {},
     "output_type": "display_data"
    }
   ],
   "source": [
    "model = models.resnet50(weights=\"IMAGENET1K_V2\")\n",
    "model.conv1 = nn.Conv2d(3, 64, kernel_size=7, stride=2, padding=3, bias=False)  # already 3-ch\n",
    "num_ftrs = model.fc.in_features\n",
    "model.fc  = nn.Linear(num_ftrs, 7) \n",
    "\n",
    "device   = \"cuda\" if torch.cuda.is_available() else \"cpu\"\n",
    "print(f\"Using {device} device\")\n",
    "model    = model.to(device)\n",
    "criterion= nn.CrossEntropyLoss()\n",
    "optimizer= optim.AdamW(filter(lambda p: p.requires_grad, model.parameters()), lr=1e-3)\n",
    "\n",
    "writer = tensorboard.SummaryWriter(log_dir=\"runs/fer_resnet50\") \n",
    "epochs = 50\n",
    "losses = []\n",
    "\n",
    "for epoch in range(epochs):\n",
    "    # Training...\n",
    "    model.train()\n",
    "    running_loss = 0.0\n",
    "    train_bar = tqdm(total=len(train_idxs), desc=f\"Epoch {epoch:02d} [Train]\", unit=\"img\", dynamic_ncols=True)\n",
    "\n",
    "    for x, y in train_loader:\n",
    "        x, y = x.to(device), y.to(device)\n",
    "        optimizer.zero_grad()\n",
    "        out = model(x)\n",
    "        loss = criterion(out, y)\n",
    "        loss.backward()\n",
    "        optimizer.step()\n",
    "\n",
    "        running_loss += loss.item() * x.size(0)\n",
    "        train_bar.update(x.size(0))\n",
    "        train_bar.set_postfix(loss=loss.item())\n",
    "\n",
    "    train_bar.close()\n",
    "\n",
    "    # Validation...\n",
    "    model.eval()\n",
    "    correct = total = 0\n",
    "    val_bar = tqdm(total=len(val_idxs), desc=f\"Epoch {epoch:02d} [Valid]\", unit=\"img\", dynamic_ncols=True)\n",
    "\n",
    "    with torch.no_grad():\n",
    "        for x, y in val_loader:\n",
    "            x, y = x.to(device), y.to(device)\n",
    "            pred = model(x).argmax(1)\n",
    "            correct += (pred == y).sum().item()\n",
    "            total   += y.size(0)\n",
    "            val_bar.update(x.size(0))\n",
    "\n",
    "    val_bar.close()\n",
    "\n",
    "    train_loss = running_loss / len(train_loader.dataset)\n",
    "    losses.append(train_loss)\n",
    "    val_acc    = 100 * correct / total\n",
    "\n",
    "    # <<<<<<<<<<<< Add TensorBoard logs here\n",
    "    writer.add_scalar('Loss/train', train_loss, epoch)\n",
    "    writer.add_scalar('Accuracy/val', val_acc, epoch)\n",
    "\n",
    "    print(f\"Epoch {epoch:02d}: train loss {train_loss:.4f}  val acc {val_acc:.2f}%\")\n",
    "\n",
    "# after all epochs\n",
    "writer.close()\n",
    "\n",
    "plt.plot(losses)\n",
    "plt.title(\"Training Loss\")\n",
    "plt.xlabel(\"Epochs\")\n",
    "plt.ylabel(\"Loss\")\n",
    "plt.show()\n"
   ]
  },
  {
   "cell_type": "code",
   "execution_count": 5,
   "id": "be93e85d",
   "metadata": {},
   "outputs": [
    {
     "name": "stdout",
     "output_type": "stream",
     "text": [
      "Found 7178 images belonging to 7 classes.\n"
     ]
    }
   ],
   "source": [
    "test_datagen = ImageDataGenerator(rescale=1.0/255)\n",
    "\n",
    "test_generator = test_datagen.flow_from_directory(\n",
    "    directory=os.path.join(\"dataset\", \"fer2013\", \"test\"),\n",
    "    target_size=(48, 48),\n",
    "    color_mode=\"grayscale\",\n",
    "    batch_size=64,\n",
    "    class_mode=\"categorical\",\n",
    "    shuffle=False\n",
    ")"
   ]
  },
  {
   "cell_type": "code",
   "execution_count": 6,
   "id": "f59fabfc",
   "metadata": {},
   "outputs": [
    {
     "name": "stdout",
     "output_type": "stream",
     "text": [
      "[PyTorch] Test accuracy: 0.6535 (4691/7178)\n"
     ]
    }
   ],
   "source": [
    "model.eval()\n",
    "\n",
    "correct = total = 0\n",
    "criterion = nn.CrossEntropyLoss()\n",
    "\n",
    "test_loader  = DataLoader(test_ds,  batch_size=64, num_workers=4, pin_memory=True)\n",
    "\n",
    "with torch.no_grad():\n",
    "    for imgs, labels in test_loader:\n",
    "        imgs, labels = imgs.to(device), labels.to(device)\n",
    "        outputs = model(imgs)\n",
    "        loss = criterion(outputs, labels)\n",
    "        preds = outputs.argmax(dim=1)\n",
    "        correct += (preds == labels).sum().item()\n",
    "        total   += labels.size(0)\n",
    "\n",
    "print(f\"[PyTorch] Test accuracy: {correct/total:.4f} ({correct}/{total})\")"
   ]
  },
  {
   "cell_type": "code",
   "execution_count": 7,
   "id": "2e51d135",
   "metadata": {},
   "outputs": [],
   "source": [
    "# save the model \n",
    "model_path = f\"models/fer_resnet50_epoch{epochs}.pth\"\n",
    "torch.save(model.state_dict(), model_path)\n",
    "\n",
    "# load the model\n",
    "# model = models.resnet50(weights=\"IMAGENET1K_V2\")\n",
    "# model.conv1 = nn.Conv2d(3, 64, kernel_size=7, stride=2, padding=3, bias=False)  # already 3-ch\n",
    "# num_ftrs = model.fc.in_features\n",
    "# model.fc = nn.Sequential(\n",
    "#     nn.Linear(num_ftrs, 512),\n",
    "#     nn.ReLU(),\n",
    "#     nn.Linear(512, 7)\n",
    "# )\n",
    "# model.load_state_dict(torch.load(model_path))\n",
    "# model.eval()"
   ]
  },
  {
   "cell_type": "code",
   "execution_count": 8,
   "id": "c8285b9c",
   "metadata": {},
   "outputs": [
    {
     "data": {
      "image/png": "[encoded data removed]",
      "text/plain": [
       "<Figure size 700x600 with 2 Axes>"
      ]
     },
     "metadata": {},
     "output_type": "display_data"
    }
   ],
   "source": [
    "# Assuming you already have a trained model and test_loader\n",
    "device = \"cuda\" if torch.cuda.is_available() else \"cpu\"\n",
    "\n",
    "# 1. Predict all test images\n",
    "all_preds = []\n",
    "all_labels = []\n",
    "\n",
    "model.eval()\n",
    "with torch.no_grad():\n",
    "    for x, y in test_loader:\n",
    "        x, y = x.to(device), y.to(device)\n",
    "        outputs = model(x)\n",
    "        preds = outputs.argmax(dim=1)\n",
    "\n",
    "        all_preds.append(preds.cpu().numpy())\n",
    "        all_labels.append(y.cpu().numpy())\n",
    "\n",
    "# 2. Flatten lists\n",
    "all_preds = np.concatenate(all_preds)\n",
    "all_labels = np.concatenate(all_labels)\n",
    "\n",
    "# 3. Create confusion matrix\n",
    "cm = confusion_matrix(all_labels, all_preds)\n",
    "cm_normalized = cm.astype('float') / cm.sum(axis=1)[:, np.newaxis]\n",
    "\n",
    "# 4. Define class names (match the dataset folder order!)\n",
    "class_names = ['Angry', 'Disgust', 'Fear', 'Happy', 'Neutral', 'Sad', 'Surprise']\n",
    "\n",
    "# 5. Plot the heatmap\n",
    "plt.figure(figsize=(7,6))\n",
    "sns.heatmap(cm_normalized, annot=True, fmt='.2f', cmap='YlOrBr', \n",
    "            xticklabels=class_names, yticklabels=class_names, cbar=True)\n",
    "\n",
    "plt.xlabel('Predicted Label')\n",
    "plt.ylabel('Actual Label')\n",
    "plt.title(f'FER, Test Accuracy: {100*np.trace(cm)/np.sum(cm):.2f}%')\n",
    "plt.tight_layout()\n",
    "plt.show()\n"
   ]
  }
 ],
 "metadata": {
  "kernelspec": {
   "display_name": ".venv",
   "language": "python",
   "name": "python3"
  },
  "language_info": {
   "codemirror_mode": {
    "name": "ipython",
    "version": 3
   },
   "file_extension": ".py",
   "mimetype": "text/x-python",
   "name": "python",
   "nbconvert_exporter": "python",
   "pygments_lexer": "ipython3",
   "version": "3.12.5"
  }
 },
 "nbformat": 4,
 "nbformat_minor": 5
}
